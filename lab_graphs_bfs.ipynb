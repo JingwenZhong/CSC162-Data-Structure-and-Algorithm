{
 "cells": [
  {
   "cell_type": "markdown",
   "metadata": {
    "button": false,
    "new_sheet": false,
    "run_control": {
     "read_only": false
    }
   },
   "source": [
    "# Lab 17: Graphs: Breadth-First Searching"
   ]
  },
  {
   "cell_type": "markdown",
   "metadata": {
    "button": false,
    "new_sheet": false,
    "run_control": {
     "read_only": false
    }
   },
   "source": [
    "## <font color=DarkRed>Your Exercise: All Pairs Shortest Path</font>\n",
    "\n",
    "Using breadth first search write an algorithm that can determine the shortest path from each vertex to every other vertex. This is called the all pairs shortest path problem."
   ]
  },
  {
   "cell_type": "markdown",
   "metadata": {
    "button": false,
    "new_sheet": false,
    "run_control": {
     "read_only": false
    }
   },
   "source": [
    "## <font color=green>Your Solution</font>\n",
    "\n",
    "*Use a variety of code, Markdown (text) cells below to create your solution. Nice outputs would be timing results, and even plots. You will be graded not only on correctness, but the clarity of your code, descriptive text and other output. Keep it succinct!*"
   ]
  },
  {
   "cell_type": "code",
   "execution_count": 207,
   "metadata": {},
   "outputs": [],
   "source": [
    "from random import random\n",
    "import sys"
   ]
  },
  {
   "cell_type": "code",
   "execution_count": 208,
   "metadata": {},
   "outputs": [],
   "source": [
    "class Queue:\n",
    "    def __init__(self):\n",
    "        self.items = []\n",
    "        \n",
    "    def is_empty(self):\n",
    "        return self.items == []\n",
    "    \n",
    "    def enqueue(self, item):\n",
    "        self.items.insert(0, item) # this insert is actually a O(n)\n",
    "        \n",
    "    def dequeue(self):\n",
    "        return self.items.pop()\n",
    "    \n",
    "    def size(self):\n",
    "        return len(self.items)"
   ]
  },
  {
   "cell_type": "code",
   "execution_count": 209,
   "metadata": {},
   "outputs": [],
   "source": [
    "class Vertex:\n",
    "    def __init__(self, key):\n",
    "        self.id = key\n",
    "        self.connected_to = {}  # \"adjacency list\", represented a dict ;the key is vertex,value is weight\n",
    "        self.color = \"white\"\n",
    "        self.dist = sys.maxsize\n",
    "        self.pred = None\n",
    "        self.disc = 0\n",
    "        self.fin = 0\n",
    "        \n",
    "    def __str__(self):\n",
    "        return f\"<Vertex({self.id}): connected to: {[x.id for x in self.connected_to]}\"\n",
    "    \n",
    "    def __repr__(self):\n",
    "        return f\"Vertex({self.id!r})\"\n",
    "    \n",
    "    def add_neighbor(self, nbr, weight=0):\n",
    "        self.connected_to[nbr] = weight\n",
    "        \n",
    "    def set_color(self, color):\n",
    "        self.color = color\n",
    "        \n",
    "    def set_distance(self, d):\n",
    "        self.dist = d\n",
    "        \n",
    "    def set_pred(self, p):\n",
    "        self.pred = p\n",
    "        \n",
    "    def set_finish(self, ftime):\n",
    "        self.fin = ftime\n",
    "        \n",
    "    def get_finish(self):\n",
    "        return self.fin\n",
    "    \n",
    "    def get_discovery(self):\n",
    "        return self.disc\n",
    "    \n",
    "    def get_pred(self):\n",
    "        return self.pred\n",
    "    \n",
    "    def get_distance(self):\n",
    "        return self.dist\n",
    "    \n",
    "    def get_color(self):\n",
    "        return self.color\n",
    "    \n",
    "    def get_connections(self):\n",
    "        # returns the neighbors to this Vertex as a list of their Vertex objects\n",
    "        return self.connected_to.keys()\n",
    "    \n",
    "    def get_weight(self, nbr):\n",
    "        return self.connected_to[nbr]\n",
    "    \n",
    "    def get_id(self):\n",
    "        return self.id"
   ]
  },
  {
   "cell_type": "code",
   "execution_count": 210,
   "metadata": {},
   "outputs": [],
   "source": [
    "class Graph:\n",
    "    def __init__(self):\n",
    "        self.vertices = {} #key is the id of vertex，value is vertex\n",
    "        self.num_vertices = 0\n",
    "        \n",
    "    def __contains__(self, key):\n",
    "        return key in self.vertices\n",
    "    \n",
    "    def __iter__(self):\n",
    "        return iter(self.vertices.values())\n",
    "    \n",
    "    def add_vertex(self, key):\n",
    "        # What to do if this key already exists here?\n",
    "        if key not in self.vertices:\n",
    "            new_vertex = Vertex(key)\n",
    "            self.vertices[key] = new_vertex\n",
    "            self.num_vertices += 1\n",
    "            \n",
    "    def get_vertex(self, key):\n",
    "        if key in self.vertices:\n",
    "            return self.vertices[key]\n",
    "        else:\n",
    "            return None\n",
    "        \n",
    "        # Alternative one-liner\n",
    "        # return self.vertices.get(key)\n",
    "        \n",
    "    def add_edge(self, from_key, to_key, weight=0):\n",
    "        \"\"\"Add an edge between existing vertices\n",
    "        \n",
    "        Vertices are expected to exist, or else a VertexError will\n",
    "        be raise\n",
    "        \"\"\"\n",
    "        \n",
    "        if from_key not in self.vertices:\n",
    "            raise VertexError(f\"'From' Vertex key {from_key!r} not found!\")\n",
    "            \n",
    "        if to_key not in self.vertices:\n",
    "            raise VertexError(f\"'To' Vertex key {to_key!r} not found!\")\n",
    "            \n",
    "        # lookup the 'from' Vertex object and add a new neighbor to it\n",
    "        self.vertices[from_key].add_neighbor(self.vertices[to_key], weight)"
   ]
  },
  {
   "cell_type": "code",
   "execution_count": 211,
   "metadata": {
    "button": false,
    "new_sheet": false,
    "run_control": {
     "read_only": false
    }
   },
   "outputs": [],
   "source": [
    "def build_graph(word_file, count=None, random_select=False):\n",
    "    d = {}\n",
    "    g = Graph()\n",
    "    current = 0\n",
    "    \n",
    "    # Pass in a filename, or an already open fileobject\n",
    "    if isinstance(word_file, str):\n",
    "        # 'word_file' is a filename, a string\n",
    "        wfile = open(word_file, 'r')\n",
    "    else:\n",
    "        # We should tighten up this conditional check, but it works for now\n",
    "        # The idea here is word_file can be passed in as an already open file object\n",
    "        wfile = word_file\n",
    "        \n",
    "    # Create the buckets of words that differ by one letter\n",
    "    for line in wfile:\n",
    "        # randomly pick a word to avoid loosely connects graph\n",
    "        # 25% chance of picking a word, or 75% chance of skipping a word    \n",
    "        if random_select and random() >= 0.05:\n",
    "            continue\n",
    "            \n",
    "        # If required, and count is not None, constrain our number of words used.\n",
    "        if count and current > count:\n",
    "            break\n",
    "            \n",
    "        word = line.strip()  # stripping '\\n' newline character\n",
    "        for i, _ in enumerate(word):\n",
    "            bucket = word[:i] + \"_\" + word[i+1:]\n",
    "            if bucket in d:\n",
    "                d[bucket].append(word)\n",
    "            else:\n",
    "                d[bucket] = [word]\n",
    "\n",
    "        current += 1\n",
    "            \n",
    "    \n",
    "    total_connections = 0\n",
    "        \n",
    "    # add vertices and edges for words in the same bucket\n",
    "    for bucket in d:  # iterate over all the keys in dictionary d\n",
    "        for word1 in d[bucket]:\n",
    "            for word2 in d[bucket]:\n",
    "                if word1 != word2:\n",
    "                    g.add_vertex(word1)\n",
    "                    g.add_vertex(word2)\n",
    "                    g.add_edge(word1, word2)\n",
    "                    total_connections += 1\n",
    "    \n",
    "    print(f\"Total edges in this graph: {total_connections}\")\n",
    "    return g"
   ]
  },
  {
   "cell_type": "code",
   "execution_count": 212,
   "metadata": {},
   "outputs": [],
   "source": [
    "def bfs(g, start):\n",
    "    start.set_distance(0)\n",
    "    start.set_pred(None)\n",
    "    vert_queue = Queue()\n",
    "    vert_queue.enqueue(start)\n",
    "    \n",
    "    while vert_queue.size() > 0:\n",
    "        current_vert = vert_queue.dequeue()\n",
    "        \n",
    "        for nbr in current_vert.get_connections():\n",
    "            if nbr.get_color() == 'white':\n",
    "                nbr.set_color('gray')\n",
    "                nbr.set_distance(current_vert.get_distance() + 1)\n",
    "                nbr.set_pred(current_vert)\n",
    "                vert_queue.enqueue(nbr)\n",
    "                \n",
    "        current_vert.set_color('black')"
   ]
  },
  {
   "cell_type": "code",
   "execution_count": 213,
   "metadata": {},
   "outputs": [],
   "source": [
    "def ShortPath(g, s, t):\n",
    "    start = s\n",
    "    target = t\n",
    "    curr = target \n",
    "    result = bfs(g, start)  \n",
    "    \n",
    "    path = [curr] # store the path in a reversed direction: target -> source\n",
    "      \n",
    "    while ( curr.get_pred() != start):\n",
    "        curr = curr.get_pred() # get the precessor vertex\n",
    "        path.append(curr) # and add in the path\n",
    "    path.append(source)\n",
    "                 \n",
    "    #print\n",
    "    for ind in range(len(path)-1, 0, -1):\n",
    "        print(path[ind], '->')\n",
    "    print(path[0])"
   ]
  },
  {
   "cell_type": "markdown",
   "metadata": {
    "button": false,
    "new_sheet": false,
    "run_control": {
     "read_only": false
    }
   },
   "source": [
    "## Testing\n",
    "\n",
    "Test out your solution to show it works as advertised. Use textutal output, or, if you can, perhaps using a program like `graphviz`."
   ]
  },
  {
   "cell_type": "code",
   "execution_count": 214,
   "metadata": {},
   "outputs": [],
   "source": [
    "def main():\n",
    "    words_string = \"\"\"\n",
    "foul\n",
    "foil\n",
    "fail\n",
    "fall\n",
    "pole\n",
    "pall\n",
    "poll\n",
    "pool\n",
    "cool\n",
    "fool\n",
    "pope\n",
    "pale\n",
    "sale\n",
    "sage\n",
    "page\n",
    "\"\"\"\n",
    "    words_file = StringIO(words_string)\n",
    "    word_graph = build_graph(words_file)\n",
    "    \n",
    "    return word_graph"
   ]
  },
  {
   "cell_type": "code",
   "execution_count": 215,
   "metadata": {},
   "outputs": [
    {
     "name": "stdout",
     "output_type": "stream",
     "text": [
      "Total edges in this graph: 38\n"
     ]
    }
   ],
   "source": [
    "wg = main()"
   ]
  },
  {
   "cell_type": "code",
   "execution_count": 216,
   "metadata": {},
   "outputs": [
    {
     "data": {
      "text/plain": [
       "15"
      ]
     },
     "execution_count": 216,
     "metadata": {},
     "output_type": "execute_result"
    }
   ],
   "source": [
    "len(wg.vertices)"
   ]
  },
  {
   "cell_type": "code",
   "execution_count": 217,
   "metadata": {},
   "outputs": [
    {
     "name": "stdout",
     "output_type": "stream",
     "text": [
      "fool ->\n",
      "<Vertex(pool): connected to: ['poll', 'cool', 'fool'] ->\n",
      "<Vertex(poll): connected to: ['pole', 'pall', 'pool'] ->\n",
      "<Vertex(pole): connected to: ['pale', 'pope', 'poll'] ->\n",
      "<Vertex(pale): connected to: ['pole', 'pall', 'sale', 'page'] ->\n",
      "<Vertex(sale): connected to: ['pale', 'sage'] ->\n",
      "<Vertex(sage): connected to: ['sale', 'page']\n"
     ]
    }
   ],
   "source": [
    "ShortPath(wg, wg.get_vertex('fool'),wg.get_vertex('sage'))\n",
    "# print the shortest path from source = 'fool' to target = 'sage'"
   ]
  }
 ],
 "metadata": {
  "kernelspec": {
   "display_name": "Python 3",
   "language": "python",
   "name": "python3"
  },
  "language_info": {
   "codemirror_mode": {
    "name": "ipython",
    "version": 3
   },
   "file_extension": ".py",
   "mimetype": "text/x-python",
   "name": "python",
   "nbconvert_exporter": "python",
   "pygments_lexer": "ipython3",
   "version": "3.7.6"
  }
 },
 "nbformat": 4,
 "nbformat_minor": 2
}

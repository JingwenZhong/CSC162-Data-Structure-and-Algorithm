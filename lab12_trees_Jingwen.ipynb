{
 "cells": [
  {
   "cell_type": "markdown",
   "metadata": {
    "button": false,
    "new_sheet": false,
    "run_control": {
     "read_only": false
    }
   },
   "source": [
    "# Lab 11: Trees"
   ]
  },
  {
   "cell_type": "markdown",
   "metadata": {
    "button": false,
    "new_sheet": false,
    "run_control": {
     "read_only": false
    }
   },
   "source": [
    "## <font color=DarkRed>Your Exercise: Parsing Expressions with Boolean Operators</font>\n",
    "\n",
    "Modify the `build_parse_tree`, and `evaluate` functions to handle boolean operators (`and`, `or`, and `not`). Remember that `not` is a unary operator, so this will complicate your code somewhat."
   ]
  },
  {
   "cell_type": "markdown",
   "metadata": {
    "button": false,
    "new_sheet": false,
    "run_control": {
     "read_only": false
    }
   },
   "source": [
    "## <font color=green>Your Solution</font>\n",
    "\n",
    "*Use a variety of code, Markdown (text) cells below to create your solution. Nice outputs would be timing results, and even plots. You will be graded not only on correctness, but the clarity of your code, descriptive text and other output. Keep it succinct!*"
   ]
  },
  {
   "cell_type": "code",
   "execution_count": 23,
   "metadata": {},
   "outputs": [],
   "source": [
    "import string\n",
    "import operator"
   ]
  },
  {
   "cell_type": "code",
   "execution_count": 24,
   "metadata": {},
   "outputs": [],
   "source": [
    "class Stack():\n",
    "    def __init__(self):\n",
    "        self.items = []\n",
    "    \n",
    "    def is_empty(self):\n",
    "        return self.items == []\n",
    "\n",
    "    def size(self):\n",
    "        return len(self.items)\n",
    "\n",
    "    def peek(self):\n",
    "        return self.items[-1]\n",
    "  \n",
    "    def push(self, item):\n",
    "        self.items.append(item)\n",
    "\n",
    "    def pop(self):\n",
    "        return self.items.pop()"
   ]
  },
  {
   "cell_type": "code",
   "execution_count": 25,
   "metadata": {},
   "outputs": [],
   "source": [
    "class BinaryTree:\n",
    "    def __init__(self, key):\n",
    "        self.key = key\n",
    "        self.left_child = None\n",
    "        self.right_child = None\n",
    "        \n",
    "    def insert_left(self, key):\n",
    "        if self.left_child is None:\n",
    "            self.left_child = BinaryTree(key)\n",
    "        else:  # if there IS a left child\n",
    "            t = BinaryTree(key)\n",
    "            t.left_child = self.left_child\n",
    "            self.left_child = t\n",
    "            \n",
    "    def insert_right(self, key):\n",
    "        if self.right_child is None:\n",
    "            self.right_child = BinaryTree(key)\n",
    "        else:  # if there IS a right child\n",
    "            t = BinaryTree(key)\n",
    "            t.right_child = self.right_child\n",
    "            self.right_child = t\n",
    "            \n",
    "    def get_right_child(self):\n",
    "        return self.right_child\n",
    "    \n",
    "    def get_left_child(self):\n",
    "        return self.left_child\n",
    "    \n",
    "    def get_root_val(self):\n",
    "        return self.key\n",
    "    \n",
    "    def set_root_val(self, new_key):\n",
    "        self.key = new_key\n",
    "    \n",
    "    def __repr__(self):\n",
    "        return f\"BinaryTree({self.key!r})\""
   ]
  },
  {
   "cell_type": "code",
   "execution_count": 26,
   "metadata": {},
   "outputs": [],
   "source": [
    "def build_parse_tree(fpexp):\n",
    "    fplist = fpexp.split()\n",
    "    p_stack = Stack()\n",
    "    e_tree = BinaryTree('')\n",
    "    \n",
    "    p_stack.push(e_tree)\n",
    "    current_tree = e_tree\n",
    "    \n",
    "    for i in fplist:\n",
    "        if i == \"(\":\n",
    "            current_tree.insert_left('')\n",
    "            p_stack.push(current_tree)\n",
    "            current_tree = current_tree.get_left_child()\n",
    "        elif i.isdigit():\n",
    "            current_tree.set_root_val(int(i))\n",
    "            parent = p_stack.pop()\n",
    "            current_tree = parent\n",
    "        elif i in [\"+\", \"-\", \"/\", \"*\", \"and\", \"or\"]:\n",
    "            current_tree.set_root_val(i)\n",
    "            current_tree.insert_right('')\n",
    "            p_stack.push(current_tree)\n",
    "            current_tree = current_tree.get_right_child()\n",
    "        elif i in [\"not\"]:\n",
    "            current_tree.set_root_val(None)  #set left node to None\n",
    "            current_tree = p_stack.pop()     #go back to parent\n",
    "            current_tree.set_root_val(i)\n",
    "            p_stack.push(current_tree)\n",
    "            current_tree = current_tree.get_left_child()          \n",
    "        elif i == \")\":\n",
    "            current_tree = p_stack.pop()\n",
    "        else:\n",
    "            raise ValueError(\"invalid expression given!\")          \n",
    "    return e_tree"
   ]
  },
  {
   "cell_type": "code",
   "execution_count": 27,
   "metadata": {},
   "outputs": [],
   "source": [
    "def evaluate(parse_tree):\n",
    "    opers = {\n",
    "        \"+\": operator.add,\n",
    "        \"-\": operator.sub,\n",
    "        \"*\": operator.mul,\n",
    "        \"/\": operator.truediv,\n",
    "        \"and\": operator.and_,\n",
    "        \"or\": operator.or_,\n",
    "        \"not\": operator.not_,\n",
    "    }\n",
    "    \n",
    "    left_c = parse_tree.get_left_child()\n",
    "    right_c = parse_tree.get_right_child()\n",
    "    \n",
    "    if left_c and right_c:\n",
    "        fn = opers[parse_tree.get_root_val()]\n",
    "        return fn(evaluate(left_c), evaluate(right_c))\n",
    "    elif left_c:\n",
    "        fn = opers[parse_tree.get_root_val()]\n",
    "        return fn(evaluate(left_c))\n",
    "    else:\n",
    "        return parse_tree.get_root_val()"
   ]
  },
  {
   "cell_type": "markdown",
   "metadata": {},
   "source": [
    "## Testing\n",
    "\n",
    "Test `build_parse_tree`, and `evaluate` to show that boolean expressions (with, or without arithmetic expressions mixed), work as expected."
   ]
  },
  {
   "cell_type": "code",
   "execution_count": 28,
   "metadata": {},
   "outputs": [
    {
     "name": "stdout",
     "output_type": "stream",
     "text": [
      "0\n",
      "104\n"
     ]
    }
   ],
   "source": [
    "print(operator.and_(0, 888))\n",
    "print(operator.and_(233, 888))"
   ]
  },
  {
   "cell_type": "code",
   "execution_count": 29,
   "metadata": {},
   "outputs": [
    {
     "name": "stdout",
     "output_type": "stream",
     "text": [
      "0\n",
      "104\n"
     ]
    }
   ],
   "source": [
    "pt1 = build_parse_tree(\" ( 0 and 888 )\")\n",
    "pt2 = build_parse_tree(\" ( 233 and 888 )\")\n",
    "print(evaluate(pt1))\n",
    "print(evaluate(pt2))"
   ]
  },
  {
   "cell_type": "code",
   "execution_count": 30,
   "metadata": {},
   "outputs": [
    {
     "name": "stdout",
     "output_type": "stream",
     "text": [
      "0\n",
      "888\n",
      "1017\n"
     ]
    }
   ],
   "source": [
    "print(operator.or_(0, 0))\n",
    "print(operator.or_(0, 888))\n",
    "print(operator.or_(233, 888))"
   ]
  },
  {
   "cell_type": "code",
   "execution_count": 31,
   "metadata": {},
   "outputs": [
    {
     "name": "stdout",
     "output_type": "stream",
     "text": [
      "0\n",
      "888\n",
      "1017\n"
     ]
    }
   ],
   "source": [
    "pt3 = build_parse_tree(\" ( 0 or 0 )\")\n",
    "pt4 = build_parse_tree(\" ( 0 or 888 )\")\n",
    "pt5 = build_parse_tree(\" ( 233 or 888 )\")\n",
    "print(evaluate(pt3))\n",
    "print(evaluate(pt4))\n",
    "print(evaluate(pt5))"
   ]
  },
  {
   "cell_type": "code",
   "execution_count": 32,
   "metadata": {},
   "outputs": [
    {
     "name": "stdout",
     "output_type": "stream",
     "text": [
      "True\n",
      "False\n"
     ]
    }
   ],
   "source": [
    "print(operator.not_(0))\n",
    "print(operator.not_(888))"
   ]
  },
  {
   "cell_type": "code",
   "execution_count": 33,
   "metadata": {},
   "outputs": [
    {
     "name": "stdout",
     "output_type": "stream",
     "text": [
      "True\n",
      "False\n"
     ]
    }
   ],
   "source": [
    "pt6 = build_parse_tree(\" ( not 0 )\")\n",
    "pt7 = build_parse_tree(\" ( not 888 )\")\n",
    "print(evaluate(pt6))\n",
    "print(evaluate(pt7))"
   ]
  }
 ],
 "metadata": {
  "kernelspec": {
   "display_name": "Python 3",
   "language": "python",
   "name": "python3"
  },
  "language_info": {
   "codemirror_mode": {
    "name": "ipython",
    "version": 3
   },
   "file_extension": ".py",
   "mimetype": "text/x-python",
   "name": "python",
   "nbconvert_exporter": "python",
   "pygments_lexer": "ipython3",
   "version": "3.7.6"
  }
 },
 "nbformat": 4,
 "nbformat_minor": 2
}

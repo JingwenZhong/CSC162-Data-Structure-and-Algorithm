{
 "cells": [
  {
   "cell_type": "markdown",
   "metadata": {
    "button": false,
    "new_sheet": false,
    "run_control": {
     "read_only": false
    }
   },
   "source": [
    "# Lab 10: Hashing"
   ]
  },
  {
   "cell_type": "markdown",
   "metadata": {
    "button": false,
    "new_sheet": false,
    "run_control": {
     "read_only": false
    }
   },
   "source": [
    "## <font color=DarkRed>Your Exercise: Rehashing using Quadratic Probing.</font>\n",
    "\n",
    "Implement quadratic probing as a rehash technique. Use the `HashTable` implementation provided in my class notes."
   ]
  },
  {
   "cell_type": "markdown",
   "metadata": {
    "button": false,
    "new_sheet": false,
    "run_control": {
     "read_only": false
    }
   },
   "source": [
    "## <font color=green>Your Solution</font>\n",
    "\n",
    "*Use a variety of code, Markdown (text) cells below to create your solution. Nice outputs would be timing results, and even plots. You will be graded not only on correctness, but the clarity of your code, descriptive text and other output. Keep it succinct!*"
   ]
  },
  {
   "cell_type": "code",
   "execution_count": 537,
   "metadata": {},
   "outputs": [],
   "source": [
    "class HashTable_new:\n",
    "    \n",
    "    def __init__(self, size):\n",
    "        self.size = size\n",
    "        self.slots = [None] * self.size\n",
    "        self.data = [None] * self.size\n",
    "        \n",
    "    def put(self, key, data):\n",
    "        hashvalue = self.hashfunction(key)\n",
    "        \n",
    "        if self.slots[hashvalue] == None:\n",
    "            self.slots[hashvalue] = key\n",
    "            self.data[hashvalue] = data\n",
    "        else:\n",
    "            if self.slots[hashvalue] == key:\n",
    "                self.data[hashvalue] = data\n",
    "            else:\n",
    "                nextslot = self.rehash(hashvalue)\n",
    "                    \n",
    "                if self.slots[nextslot] == None:\n",
    "                    self.slots[nextslot] = key\n",
    "                    self.data[nextslot] = data\n",
    "                else:\n",
    "                    self.data[nextslot] = data\n",
    "                    \n",
    "    def get(self, key):\n",
    "        startslot = self.hashfunction(key)\n",
    "        position = startslot\n",
    "\n",
    "        data = None\n",
    "        stop = False\n",
    "        found = False\n",
    "        \n",
    "        while (self.slots[position] != None and\n",
    "               not found and\n",
    "               not stop):\n",
    "            \n",
    "            if self.slots[position] == key:\n",
    "                found = True\n",
    "                data = self.data[position]\n",
    "            else:\n",
    "                position = self.rehash(position)\n",
    "                if position == startslot:\n",
    "                    stop = True\n",
    "        return data\n",
    "    \n",
    "    def hashfunction(self, key):\n",
    "        if isinstance(key, int):\n",
    "            return key%self.size\n",
    "        elif isinstance(key, str):\n",
    "            sum_ = 0\n",
    "            for i,c in enumerate(key, start=1):\n",
    "                sum_ += ord(c)\n",
    "            return sum_%self.size\n",
    "        \n",
    "    \n",
    "    def rehash(self, oldhash):\n",
    "        n = 0\n",
    "        while (self.slots[oldhash] != None and self.slots[oldhash] != oldhash):\n",
    "            n += 1\n",
    "            oldhash = (oldhash+n^2)%self.size\n",
    "        print()\n",
    "        print(oldhash)\n",
    "        return oldhash\n",
    "            "
   ]
  },
  {
   "cell_type": "code",
   "execution_count": 538,
   "metadata": {},
   "outputs": [],
   "source": [
    "class HashTable_old:\n",
    "    def __init__(self, size):\n",
    "        self.size = size\n",
    "        self.slots = [None] * self.size\n",
    "        self.data = [None] * self.size\n",
    "        \n",
    "    def put(self, key, data):\n",
    "        hashvalue = self.hashfunction(key)\n",
    "        \n",
    "        if self.slots[hashvalue] == None:\n",
    "            self.slots[hashvalue] = key\n",
    "            self.data[hashvalue] = data\n",
    "        else:\n",
    "            if self.slots[hashvalue] == key:\n",
    "                self.data[hashvalue] = data\n",
    "            else:\n",
    "                nextslot = self.rehash(hashvalue)\n",
    "                while (self.slots[nextslot] != None and\n",
    "                       self.slots[nextslot] != key):\n",
    "                    nextslot = self.rehash(nextslot)\n",
    "                    \n",
    "                if self.slots[nextslot] == None:\n",
    "                    self.slots[nextslot] = key\n",
    "                    self.data[nextslot] = data\n",
    "                else:\n",
    "                    self.data[nextslot] = data\n",
    "                    \n",
    "    def get(self, key):\n",
    "        startslot = self.hashfunction(key)\n",
    "        position = startslot\n",
    "\n",
    "        data = None\n",
    "        stop = False\n",
    "        found = False\n",
    "        \n",
    "        while (self.slots[position] != None and\n",
    "               not found and\n",
    "               not stop):\n",
    "            \n",
    "            if self.slots[position] == key:\n",
    "                found = True\n",
    "                data = self.data[position]\n",
    "            else:\n",
    "                position = self.rehash(position)\n",
    "                if position == startslot:\n",
    "                    stop = True\n",
    "\n",
    "        return data\n",
    "    \n",
    "    def hashfunction(self, key):\n",
    "        if isinstance(key, int):\n",
    "            return key%self.size\n",
    "        elif isinstance(key, str):\n",
    "            sum_ = 0\n",
    "            for i,c in enumerate(key, start=1):\n",
    "                sum_ += ord(c)\n",
    "            return sum_%self.size\n",
    "        \n",
    "    \n",
    "    def rehash(self, oldhash):\n",
    "        #return (oldhash+1)%self.size\n",
    "        return self.hashfunction(oldhash+1)"
   ]
  },
  {
   "cell_type": "markdown",
   "metadata": {
    "button": false,
    "new_sheet": false,
    "run_control": {
     "read_only": false
    }
   },
   "source": [
    "## Testing\n",
    "\n",
    "Show me that collision resolution is happening in a quadratic fashion. Perhaps instrument the `rehash` function to print some useful output when rehashing, or show the state of the `self.slots` list before or after a collision occurs. I'll leave it up to you to demonstrate."
   ]
  },
  {
   "cell_type": "code",
   "execution_count": 539,
   "metadata": {},
   "outputs": [
    {
     "data": {
      "text/plain": [
       "3"
      ]
     },
     "execution_count": 539,
     "metadata": {},
     "output_type": "execute_result"
    }
   ],
   "source": [
    "tablesize = 25\n",
    "def hash(astring, tablesize):\n",
    "    \"\"\"Basic hashing with weighted ordinal values\"\"\"\n",
    "    sum_ = 0\n",
    "    for i,c in enumerate(astring, start=1):\n",
    "        sum_ += ord(c)\n",
    "    return sum_%tablesize\n",
    "\n",
    "hash(\"bla\", tablesize)"
   ]
  },
  {
   "cell_type": "code",
   "execution_count": 540,
   "metadata": {
    "button": false,
    "new_sheet": false,
    "run_control": {
     "read_only": false
    }
   },
   "outputs": [
    {
     "name": "stdout",
     "output_type": "stream",
     "text": [
      "5\n"
     ]
    }
   ],
   "source": [
    "words = [\"bla\", \"bal\", \"abl\", \"alb\", \"lab\"]\n",
    "print(len(words))"
   ]
  },
  {
   "cell_type": "code",
   "execution_count": 541,
   "metadata": {},
   "outputs": [],
   "source": [
    "ht_old = HashTable_old(25)\n",
    "for i, word in enumerate(words):\n",
    "    ht_old.put(word, i)"
   ]
  },
  {
   "cell_type": "code",
   "execution_count": 542,
   "metadata": {},
   "outputs": [
    {
     "name": "stdout",
     "output_type": "stream",
     "text": [
      "\n",
      "6\n",
      "\n",
      "10\n",
      "\n",
      "15\n",
      "\n",
      "17\n"
     ]
    }
   ],
   "source": [
    "ht_new = HashTable_new(25)\n",
    "for i, word in enumerate(words):\n",
    "    ht_new.put(word, i)"
   ]
  },
  {
   "cell_type": "code",
   "execution_count": 543,
   "metadata": {},
   "outputs": [
    {
     "name": "stdout",
     "output_type": "stream",
     "text": [
      "[None, None, None, 'bla', 'bal', 'abl', 'alb', 'lab', None, None, None, None, None, None, None, None, None, None, None, None, None, None, None, None, None]\n",
      "\n",
      "[None, None, None, 'bla', None, None, 'bal', None, None, None, 'abl', None, None, None, None, 'alb', None, 'lab', None, None, None, None, None, None, None]\n"
     ]
    }
   ],
   "source": [
    "print(ht_old.slots)\n",
    "print()\n",
    "print(ht_new.slots)"
   ]
  },
  {
   "cell_type": "code",
   "execution_count": 544,
   "metadata": {},
   "outputs": [
    {
     "name": "stdout",
     "output_type": "stream",
     "text": [
      "[None, None, None, 0, 1, 2, 3, 4, None, None, None, None, None, None, None, None, None, None, None, None, None, None, None, None, None]\n",
      "\n",
      "[None, None, None, 0, None, None, 1, None, None, None, 2, None, None, None, None, 3, None, 4, None, None, None, None, None, None, None]\n"
     ]
    }
   ],
   "source": [
    "print(ht_old.data)\n",
    "print()\n",
    "print(ht_new.data)"
   ]
  }
 ],
 "metadata": {
  "kernelspec": {
   "display_name": "Python 3",
   "language": "python",
   "name": "python3"
  },
  "language_info": {
   "codemirror_mode": {
    "name": "ipython",
    "version": 3
   },
   "file_extension": ".py",
   "mimetype": "text/x-python",
   "name": "python",
   "nbconvert_exporter": "python",
   "pygments_lexer": "ipython3",
   "version": "3.7.6"
  }
 },
 "nbformat": 4,
 "nbformat_minor": 2
}

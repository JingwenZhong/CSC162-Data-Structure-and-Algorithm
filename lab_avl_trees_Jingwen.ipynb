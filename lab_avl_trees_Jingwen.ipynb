{
 "cells": [
  {
   "cell_type": "markdown",
   "metadata": {
    "button": false,
    "new_sheet": false,
    "run_control": {
     "read_only": false
    }
   },
   "source": [
    "# Lab 15: AVL Trees"
   ]
  },
  {
   "cell_type": "markdown",
   "metadata": {
    "button": false,
    "new_sheet": false,
    "run_control": {
     "read_only": false
    }
   },
   "source": [
    "## <font color=DarkRed>Your Exercise: Compare the performance of an unbalanced Binary Search Tree vs. a self-balancing AVL Tree</font>\n",
    "\n",
    "Use the `BinarySearchTree`, `TreeNode`, `AVLTree`, and `AVLTreeNode` classes as found in our [class notebook on this topic](http://www.pas.rochester.edu/~rsarkis/csc162/_static/notebooks/14-Binary%20Search%20Trees/Binary%20Search%20and%20AVL%20Trees.ipynb).\n",
    "\n",
    "The worst-case performance of both those structures is listed below.\n",
    "\n",
    "| operation | Binary Search Tree |    AVL Tree    |\n",
    "| --------- | ------------------ | -------------- | \n",
    "| put \t    | $O(n)$             | $O(log_2 n)$   |\n",
    "| get \t    | $O(n)$             | $O(log_2 n)$   |\n",
    "| in \t    | $O(n)$             | $O(log_2 n)$   |\n",
    "| del \t    | $O(n)$             | $O(log_2 n)$   |\n",
    "\n",
    "\n",
    "**Your task:** Do your best to test the run time complexity of these operations on these two types of trees. This means:\n",
    "\n",
    "   * Concoting some set of data to input into the trees (perhaps my previous word examples)\n",
    "   \n",
    "   * Using timer objects\n",
    "   \n",
    "   * Plots"
   ]
  },
  {
   "cell_type": "markdown",
   "metadata": {
    "button": false,
    "new_sheet": false,
    "run_control": {
     "read_only": false
    }
   },
   "source": [
    "## <font color=green>Your Solution</font>\n",
    "\n",
    "*Use a variety of code, Markdown (text) cells below to create your solution. Nice outputs would be timing results, and even plots. You will be graded not only on correctness, but the clarity of your code, descriptive text and other output. Keep it succinct!*"
   ]
  },
  {
   "cell_type": "markdown",
   "metadata": {},
   "source": [
    "### BinarySearchTree and TreeNode"
   ]
  },
  {
   "cell_type": "code",
   "execution_count": 244,
   "metadata": {
    "button": false,
    "new_sheet": false,
    "run_control": {
     "read_only": false
    }
   },
   "outputs": [],
   "source": [
    "class TreeNode:\n",
    "    def __init__(self, key, val, left=None, right=None, parent=None):\n",
    "        self.key = key\n",
    "        self.payload = val\n",
    "        self.left_child = left\n",
    "        self.right_child= right\n",
    "        self.parent = parent\n",
    "        \n",
    "    def __iter__(self):\n",
    "        if self:\n",
    "            if self.has_left_child():\n",
    "                for elem in self.left_child:\n",
    "                    yield elem\n",
    "                    \n",
    "            yield self.key\n",
    "            \n",
    "            if self.has_right_child():\n",
    "                for elem in self.right_child:\n",
    "                    yield elem\n",
    "                    \n",
    "    def has_left_child(self):\n",
    "        return self.left_child\n",
    "    \n",
    "    def has_right_child(self):\n",
    "        return self.right_child\n",
    "    \n",
    "    def is_left_child(self):\n",
    "        return self.parent and self.parent.left_child is self\n",
    "    \n",
    "    def is_right_child(self):\n",
    "        return self.parent and self.parent.right_child is self\n",
    "    \n",
    "    def is_root(self):\n",
    "        return not self.parent\n",
    "    \n",
    "    def is_leaf(self):\n",
    "        return not self.left_child and not self.right_child\n",
    "    \n",
    "    def has_any_children(self):\n",
    "        return self.right_child or self.left_child\n",
    "    \n",
    "    def has_both_children(self):\n",
    "        return self.right_child and self.left_child\n",
    "    \n",
    "    def replace_node_data(self, key, value, lc, rc):\n",
    "        self.key = key\n",
    "        self.payload = value\n",
    "        self.left_child = lc\n",
    "        self.right_child = rc\n",
    "        \n",
    "        if self.has_left_child():\n",
    "            self.left_child.parent = self\n",
    "            \n",
    "        if self.has_right_child():\n",
    "            self.right_child.parent = self\n",
    "            \n",
    "    def splice_out(self):\n",
    "        if self.is_leaf():\n",
    "            if self.is_left_child():\n",
    "                self.parent.left_child = None\n",
    "            else:\n",
    "                self.parent.right_child = None\n",
    "        elif self.has_any_children():\n",
    "            if self.has_left_child():\n",
    "                if self.is_left_child():\n",
    "                    self.parent.left_child = self.left_child\n",
    "                else:\n",
    "                    self.parent.right_child = self.left_child\n",
    "                    \n",
    "                self.left_child.parent = self.parent\n",
    "            else:  # has a right child\n",
    "                if self.is_left_child():\n",
    "                    self.parent.left_child = self.right_child\n",
    "                else:\n",
    "                    self.parent.right_child = self.right_child\n",
    "                    \n",
    "                self.right_child.parent = self.parent\n",
    "                \n",
    "    def find_successor(self):\n",
    "        succ = None\n",
    "        \n",
    "        if self.has_right_child():\n",
    "            succ = self.right_child.find_min()\n",
    "        else:  # no right child? Then we work on left child\n",
    "            if self.parent:  # it is an intermediate node\n",
    "                if self.is_left_child():\n",
    "                    succ = self.parent\n",
    "                else:  # is a right child\n",
    "                    self.parent.right_child = None\n",
    "                    succ = self.parent.find_successor()\n",
    "                    self.parent.right_child = self\n",
    "        return succ\n",
    "    \n",
    "    \n",
    "    def find_min(self):\n",
    "        current = self\n",
    "        \n",
    "        while current.has_left_child():\n",
    "            current = current.left_child\n",
    "\n",
    "        return current"
   ]
  },
  {
   "cell_type": "code",
   "execution_count": 245,
   "metadata": {},
   "outputs": [],
   "source": [
    "class BinarySearchTree:\n",
    "    def __init__(self):\n",
    "        self.root = None\n",
    "        self.size = 0\n",
    "    \n",
    "    def __len__(self):\n",
    "        return self.length()\n",
    "    \n",
    "    def __iter__(self):\n",
    "        return self.root.__iter__()\n",
    "    \n",
    "    def __setitem__(self, k, v):\n",
    "        self.put(k, v)\n",
    "  \n",
    "    def __getitem__(self, k):\n",
    "        return self.get(k)\n",
    "    \n",
    "    def __contains__(self, k):\n",
    "        #if self._get(key, self.root):\n",
    "        #    return True\n",
    "        #else:\n",
    "        #    return False\n",
    "        \n",
    "        return self._get(k, self.root) is not None\n",
    "\n",
    "    def __delitem__(self, k):\n",
    "        self.delete(k)\n",
    "    \n",
    "    def length(self):\n",
    "        return self.size\n",
    "    \n",
    "    def put(self, key, val):\n",
    "        if self.root:\n",
    "            self._put(key, val, self.root)\n",
    "        else:  # the tree is non-existient\n",
    "            self.root = TreeNode(key, val)\n",
    "            \n",
    "        self.size += 1\n",
    "        \n",
    "    def _put(self, key, val, current_node):\n",
    "        if key < current_node.key:\n",
    "            if current_node.has_left_child():\n",
    "                self._put(key, val, current_node.left_child)\n",
    "            else:\n",
    "                current_node.left_child = TreeNode(key, val, parent=current_node)\n",
    "        else:\n",
    "            if current_node.has_right_child():\n",
    "                self._put(key, val, current_node.right_child)\n",
    "            else:\n",
    "                current_node.right_child = TreeNode(key, val, parent=current_node)\n",
    "                \n",
    "    def get(self, key):\n",
    "        if self.root:\n",
    "            res = self._get(key, self.root)\n",
    "            if res:\n",
    "                # return the value of our TreeNode with matching key\n",
    "                return res.payload\n",
    "            else:\n",
    "                return None\n",
    "        else:\n",
    "            return None\n",
    "        \n",
    "    def _get(self, key, current_node):\n",
    "        if not current_node:\n",
    "            return None\n",
    "        elif current_node.key == key:\n",
    "            return current_node\n",
    "        elif key < current_node.key:\n",
    "            return self._get(key, current_node.left_child)\n",
    "        else:\n",
    "            return self._get(key, current_node.right_child)\n",
    "        \n",
    "    def delete(self, key):\n",
    "        if self.size > 1:\n",
    "            node_to_remove = self._get(key, self.root)\n",
    "            if node_to_remove:\n",
    "                self.remove(node_to_remove)\n",
    "                self.size -= 1\n",
    "            else:\n",
    "                raise KeyError(\"Key not found in tree!\")\n",
    "        elif self.size == 1 and self.root.key == key:\n",
    "            # tree is completely removed, since it was only one node\n",
    "            self.root = None\n",
    "            self.size -= 1\n",
    "        else:\n",
    "            raise KeyError(\"Key not found in tree!\")\n",
    "            \n",
    "    def remove(self, current_node):\n",
    "        if current_node.is_leaf():  # leaf\n",
    "            #if current_node == current_node.parent.left_child:\n",
    "            if current_node.is_left_child():   \n",
    "                current_node.parent.left_child = None\n",
    "            else:\n",
    "                current_node.parent.right_child = None\n",
    "        elif current_node.has_both_children():  # interior\n",
    "            succ = current_node.find_successor()\n",
    "            succ.splice_out()\n",
    "            current_node.key = succ.key\n",
    "            current_node.payload = succ.payload\n",
    "        else:  # node has one child\n",
    "            if current_node.has_left_child():\n",
    "                if current_node.is_left_child():\n",
    "                    current_node.left_child.parent = current_node.parent\n",
    "                    current_node.parent.left_child = current_node.left_child\n",
    "                elif current_node.is_right_child():\n",
    "                    current_node.left_child.parent = current_node.parent\n",
    "                    current_node.parent.right_child = current_node.left_child\n",
    "                else:\n",
    "                    current_node.replace_node_data(current_node.left_child.key,\n",
    "                                                   current_node.left_child.payload,\n",
    "                                                   current_node.left_child.left_child,\n",
    "                                                   current_node.left_child.right_child)\n",
    "            else:\n",
    "                if current_node.is_left_child():\n",
    "                    current_node.right_child.parent = current_node.parent\n",
    "                    current_node.parent.left_child = current_node.right_child\n",
    "                elif current_node.is_right_child():\n",
    "                    current_node.right_child.parent = current_node.parent\n",
    "                    current_node.parent.right_child = current_node.right_child\n",
    "                else:\n",
    "                    current_node.replace_node_data(current_node.right_child.key,\n",
    "                                                   current_node.right_child.payload,\n",
    "                                                   current_node.right_child.left_child,\n",
    "                                                   current_node.right_child.right_child)   "
   ]
  },
  {
   "cell_type": "markdown",
   "metadata": {},
   "source": [
    "### AVLTree and TreeNode"
   ]
  },
  {
   "cell_type": "code",
   "execution_count": 246,
   "metadata": {},
   "outputs": [],
   "source": [
    "import requests"
   ]
  },
  {
   "cell_type": "code",
   "execution_count": 247,
   "metadata": {},
   "outputs": [],
   "source": [
    "class AVLTreeNode(TreeNode):\n",
    "    \"\"\"A subclass of TreeNode\"\"\"\n",
    "    def __init__(self, *args, **kwargs):\n",
    "        # Initialize a TreeNode instance that we subclass from)\n",
    "        super(AVLTreeNode, self).__init__(*args, **kwargs)\n",
    "        self.balance_factor = 0"
   ]
  },
  {
   "cell_type": "code",
   "execution_count": 248,
   "metadata": {},
   "outputs": [],
   "source": [
    "class AVLBinarySearchTree(BinarySearchTree):\n",
    "    def put(self, key, val):\n",
    "        if self.root:\n",
    "            self._put(key, val, self.root)\n",
    "        else:\n",
    "            self.root = AVLTreeNode(key, val)\n",
    "            \n",
    "        self.size += 1\n",
    "        \n",
    "    def _put(self, key, val, current_node):\n",
    "        if key < current_node.key:\n",
    "            if current_node.has_left_child():\n",
    "                self._put(key, val, current_node.left_child)\n",
    "            else:\n",
    "                current_node.left_child = AVLTreeNode(key, val, parent=current_node)\n",
    "                self.update_balance(current_node.left_child)\n",
    "        else:\n",
    "            if current_node.has_right_child():\n",
    "                self._put(key, val, current_node.right_child)\n",
    "            else:\n",
    "                current_node.right_child = AVLTreeNode(key, val, parent=current_node)\n",
    "                self.update_balance(current_node.right_child)\n",
    "                \n",
    "    def update_balance(self, node):\n",
    "        if node.balance_factor > 1 or node.balance_factor < -1:\n",
    "            self.rebalance(node)\n",
    "            return\n",
    "        \n",
    "        if node.parent is not None:\n",
    "            if node.is_left_child():\n",
    "                node.parent.balance_factor += 1\n",
    "            elif node.is_right_child():\n",
    "                node.parent.balance_factor -= 1\n",
    "                \n",
    "            if node.parent.balance_factor != 0:\n",
    "                self.update_balance(node.parent)\n",
    "                \n",
    "\n",
    "    def rebalance(self, node):\n",
    "        if node.balance_factor < 0:\n",
    "            if node.right_child.balance_factor > 0:\n",
    "                self.rotate_right(node.right_child)\n",
    "                self.rotate_left(node)\n",
    "            else:\n",
    "                self.rotate_left(node)\n",
    "        elif node.balance_factor > 0:\n",
    "            if node.left_child.balance_factor < 0:\n",
    "                self.rotate_left(node.left_child)\n",
    "                self.rotate_right(node)\n",
    "            else:\n",
    "                self.rotate_right(node)\n",
    "\n",
    "\n",
    "    def rotate_left(self, rot_root):\n",
    "        new_root = rot_root.right_child\n",
    "        rot_root.right_child = new_root.left_child\n",
    "        \n",
    "        if new_root.left_child is not None:\n",
    "            new_root.left_child.parent = rot_root\n",
    "        new_root.parent = rot_root.parent\n",
    "        \n",
    "        if rot_root.is_root():\n",
    "            self.root = new_root\n",
    "        else:\n",
    "            if rot_root.is_left_child():\n",
    "                rot_root.parent.left_child = new_root\n",
    "            else:\n",
    "                rot_root.parent.right_child = new_root\n",
    "        \n",
    "        new_root.left_child = rot_root\n",
    "        rot_root.parent = new_root\n",
    "        \n",
    "        rot_root.balance_factor = (rot_root.balance_factor + 1 \n",
    "                                   - min(new_root.balance_factor, 0))\n",
    "        \n",
    "        new_root.balance_factor = (new_root.balance_factor + 1\n",
    "                                   + max(rot_root.balance_factor, 0))\n",
    "        \n",
    "    def rotate_right(self, rot_root):\n",
    "        new_root = rot_root.left_child\n",
    "        rot_root.left_child = new_root.right_child\n",
    "        \n",
    "        if new_root.right_child != None:\n",
    "            new_root.right_child.parent = rot_root\n",
    "        new_root.parent = rot_root.parent\n",
    "        \n",
    "        if rot_root.is_root():\n",
    "            self.root = new_root\n",
    "        else:\n",
    "            if rot_root.is_left_child():\n",
    "                rot_root.parent.left_child = new_root\n",
    "            else:\n",
    "                rot_root.parent.right_child = new_root\n",
    "        \n",
    "        new_root.right_child = rot_root\n",
    "        rot_root.parent = new_root\n",
    "        \n",
    "        rot_root.balance_factor = (rot_root.balance_factor - 1 \n",
    "                                   - max(new_root.balance_factor, 0))\n",
    "        \n",
    "        new_root.balance_factor = (new_root.balance_factor - 1\n",
    "                                   + min(rot_root.balance_factor, 0))"
   ]
  },
  {
   "cell_type": "markdown",
   "metadata": {},
   "source": [
    "# Testing the run time complexity\n",
    "\n",
    "| operation | Binary Search Tree |    AVL Tree    |\n",
    "| --------- | ------------------ | -------------- | \n",
    "| put \t    | $O(n)$             | $O(log_2 n)$   |\n",
    "| get \t    | $O(n)$             | $O(log_2 n)$   |\n",
    "| in \t    | $O(n)$             | $O(log_2 n)$   |\n",
    "| del \t    | $O(n)$             | $O(log_2 n)$   |\n"
   ]
  },
  {
   "cell_type": "code",
   "execution_count": 249,
   "metadata": {},
   "outputs": [],
   "source": [
    "import time\n",
    "import random\n",
    "from random import shuffle"
   ]
  },
  {
   "cell_type": "code",
   "execution_count": 250,
   "metadata": {},
   "outputs": [],
   "source": [
    "def get_names(url):\n",
    "    req = requests.get(url)\n",
    "    lines = req.text.split(\"\\n\")\n",
    "    names = []\n",
    "    \n",
    "    for line in lines:\n",
    "        data = line.split()\n",
    "        if len(data) == 4:\n",
    "            names.append( (data[0], data[3]) )\n",
    "            \n",
    "    return names"
   ]
  },
  {
   "cell_type": "code",
   "execution_count": 251,
   "metadata": {},
   "outputs": [],
   "source": [
    "names = get_names(\"https://www2.census.gov/topics/genealogy/1990surnames/dist.female.first\")"
   ]
  },
  {
   "cell_type": "markdown",
   "metadata": {},
   "source": [
    "### BST"
   ]
  },
  {
   "cell_type": "code",
   "execution_count": 252,
   "metadata": {},
   "outputs": [],
   "source": [
    "name_tree_bst = BinarySearchTree()\n",
    "\n",
    "BST_put_time=[]   \n",
    "BST_get_time=[]\n",
    "BST_in_time=[]\n",
    "BST_del_time=[]\n",
    "\n",
    "    \n",
    "for name, rank in names:\n",
    "    \n",
    "    name_tree_bst[int(rank)] = name\n",
    "    \n",
    "    n = random.randint(1,len(name_tree_bst))\n",
    "    \n",
    "    start = time.perf_counter()\n",
    "    name_tree_bst.put(n, 'N')\n",
    "    end = time.perf_counter()\n",
    "    BST_put_time.append(end-start)\n",
    "    \n",
    "    start = time.perf_counter()\n",
    "    name_tree_bst.get(n)\n",
    "    end = time.perf_counter()\n",
    "    BST_get_time.append(end-start)\n",
    "    \n",
    "    start = time.perf_counter()\n",
    "    n in name_tree_bst\n",
    "    end = time.perf_counter()\n",
    "    BST_in_time.append(end-start)\n",
    "    \n",
    "    start = time.perf_counter()\n",
    "    name_tree_bst.delete(n)\n",
    "    end = time.perf_counter()\n",
    "    BST_del_time.append(end-start)\n",
    "       "
   ]
  },
  {
   "cell_type": "markdown",
   "metadata": {},
   "source": [
    "### AVL"
   ]
  },
  {
   "cell_type": "code",
   "execution_count": 253,
   "metadata": {},
   "outputs": [],
   "source": [
    "name_tree_avl = AVLBinarySearchTree()\n",
    "\n",
    "AVL_put_time=[]   \n",
    "AVL_get_time=[]\n",
    "AVL_in_time=[]\n",
    "AVL_del_time=[]\n",
    "\n",
    "    \n",
    "for name, rank in names:\n",
    "    name_tree_avl[int(rank)] = name\n",
    "    \n",
    "    n = random.randint(1,len(name_tree_avl))\n",
    "    \n",
    "    start = time.perf_counter()\n",
    "    name_tree_avl.put(n, 'N')\n",
    "    end = time.perf_counter()\n",
    "    AVL_put_time.append(end-start)\n",
    "    \n",
    "    start = time.perf_counter()\n",
    "    name_tree_avl.get(n)\n",
    "    end = time.perf_counter()\n",
    "    AVL_get_time.append(end-start)\n",
    "    \n",
    "    start = time.perf_counter()\n",
    "    n in name_tree_avl\n",
    "    end = time.perf_counter()\n",
    "    AVL_in_time.append(end-start)\n",
    "    \n",
    "    start = time.perf_counter()\n",
    "    name_tree_avl.delete(n)\n",
    "    end = time.perf_counter()\n",
    "    AVL_del_time.append(end-start)\n",
    "     "
   ]
  },
  {
   "cell_type": "markdown",
   "metadata": {},
   "source": [
    "# Plots"
   ]
  },
  {
   "cell_type": "code",
   "execution_count": 254,
   "metadata": {},
   "outputs": [],
   "source": [
    "import matplotlib.pyplot as plt"
   ]
  },
  {
   "cell_type": "code",
   "execution_count": 255,
   "metadata": {},
   "outputs": [],
   "source": [
    "N1 = []\n",
    "for i in range(0,len(BST_put_time)):\n",
    "    N1.append(i)\n",
    "    \n",
    "N2 = []\n",
    "for i in range(0,len(AVL_put_time)):\n",
    "    N2.append(i)\n"
   ]
  },
  {
   "cell_type": "code",
   "execution_count": 256,
   "metadata": {
    "scrolled": true
   },
   "outputs": [
    {
     "data": {
      "image/png": "[encoded data removed]",
      "text/plain": [
       "<Figure size 576x360 with 1 Axes>"
      ]
     },
     "metadata": {
      "needs_background": "light"
     },
     "output_type": "display_data"
    }
   ],
   "source": [
    "plt.figure(figsize=(8,5))\n",
    "plt.title(\"time taking of put in BST vs. AVL \")\n",
    "plt.scatter(N1, BST_put_time, label = 'BST_put_time')\n",
    "plt.scatter(N2, AVL_put_time, label = 'AVL_put_time')\n",
    "plt.legend()\n",
    "plt.ylabel('time taken')\n",
    "plt.xlabel('N')\n",
    "plt.ylim(0,0.004)\n",
    "plt.show()"
   ]
  },
  {
   "cell_type": "code",
   "execution_count": 257,
   "metadata": {},
   "outputs": [],
   "source": [
    "N1 = []\n",
    "for i in range(0,len(BST_get_time)):\n",
    "    N1.append(i)\n",
    "    \n",
    "N2 = []\n",
    "for i in range(0,len(AVL_get_time)):\n",
    "    N2.append(i)\n"
   ]
  },
  {
   "cell_type": "code",
   "execution_count": 258,
   "metadata": {},
   "outputs": [
    {
     "data": {
      "image/png": "[encoded data removed]",
      "text/plain": [
       "<Figure size 576x360 with 1 Axes>"
      ]
     },
     "metadata": {
      "needs_background": "light"
     },
     "output_type": "display_data"
    }
   ],
   "source": [
    "plt.figure(figsize=(8,5))\n",
    "plt.title(\"time taking of get in BST vs. AVL \")\n",
    "plt.scatter(N1,BST_get_time , label = 'BST_get_time')\n",
    "plt.scatter(N2,AVL_get_time, label = 'AVL_get_time')\n",
    "plt.legend()\n",
    "plt.ylabel('time taken')\n",
    "plt.xlabel('N')\n",
    "plt.ylim(0,0.003)\n",
    "plt.show()"
   ]
  },
  {
   "cell_type": "code",
   "execution_count": 259,
   "metadata": {},
   "outputs": [],
   "source": [
    "N1 = []\n",
    "for i in range(0,len(BST_in_time)):\n",
    "    N1.append(i)\n",
    "    \n",
    "N2 = []\n",
    "for i in range(0,len(AVL_in_time)):\n",
    "    N2.append(i)\n"
   ]
  },
  {
   "cell_type": "code",
   "execution_count": 260,
   "metadata": {},
   "outputs": [
    {
     "data": {
      "image/png": "[encoded data removed]",
      "text/plain": [
       "<Figure size 576x360 with 1 Axes>"
      ]
     },
     "metadata": {
      "needs_background": "light"
     },
     "output_type": "display_data"
    }
   ],
   "source": [
    "plt.figure(figsize=(8,5))\n",
    "plt.title(\"time taking of in in BST vs. AVL \")\n",
    "plt.scatter(N1, BST_in_time , label = 'BST_in_time')\n",
    "plt.scatter(N2, AVL_in_time, label = 'AVL_in_time')\n",
    "plt.legend()\n",
    "plt.ylabel('time taken')\n",
    "plt.xlabel('N')\n",
    "plt.ylim(0,0.003)\n",
    "plt.show()"
   ]
  },
  {
   "cell_type": "code",
   "execution_count": 261,
   "metadata": {},
   "outputs": [],
   "source": [
    "BST_del_time2 = []\n",
    "for i in range(0,4275, 171):\n",
    "    m= BST_del_time.pop(i)\n",
    "    BST_del_time2.append(m)\n",
    "\n",
    "AVL_del_time2 = []\n",
    "for i in range(0,4275, 171):\n",
    "    m= AVL_del_time.pop(i)\n",
    "    AVL_del_time2.append(m)"
   ]
  },
  {
   "cell_type": "code",
   "execution_count": 262,
   "metadata": {
    "scrolled": true
   },
   "outputs": [
    {
     "data": {
      "image/png": "[encoded data removed]",
      "text/plain": [
       "<Figure size 432x288 with 1 Axes>"
      ]
     },
     "metadata": {
      "needs_background": "light"
     },
     "output_type": "display_data"
    }
   ],
   "source": [
    "plt.title(\"time taking of delete in BST vs. AVL \")\n",
    "plt.plot(BST_del_time2 , label = 'BST_del_time')\n",
    "plt.plot(AVL_del_time2, label = 'AVL_del_time')\n",
    "plt.legend()\n",
    "plt.ylabel('time taken')\n",
    "plt.xlabel('N')\n",
    "plt.show()"
   ]
  }
 ],
 "metadata": {
  "kernelspec": {
   "display_name": "Python 3",
   "language": "python",
   "name": "python3"
  },
  "language_info": {
   "codemirror_mode": {
    "name": "ipython",
    "version": 3
   },
   "file_extension": ".py",
   "mimetype": "text/x-python",
   "name": "python",
   "nbconvert_exporter": "python",
   "pygments_lexer": "ipython3",
   "version": "3.7.6"
  }
 },
 "nbformat": 4,
 "nbformat_minor": 2
}

{
 "cells": [
  {
   "cell_type": "markdown",
   "metadata": {
    "button": false,
    "new_sheet": false,
    "run_control": {
     "read_only": false
    }
   },
   "source": [
    "# Lab 6: Lists"
   ]
  },
  {
   "cell_type": "markdown",
   "metadata": {
    "button": false,
    "new_sheet": false,
    "run_control": {
     "read_only": false
    }
   },
   "source": [
    "## <font color=DarkRed>Your Exercise: Implement additional operations for the `UnorderedList` ADT.</font>\n",
    "\n",
    "Implement all parts of the `UnorderedList` and `Node` classes as described\n",
    "in the textbook. You will use the definition of `Node` to implement a\n",
    "singly-linked list inside the `UnorderedList` class.\n",
    "\n",
    "*Note: The `__init__` method asks for a parameter named `'init_data'`, which I don't believe is in the book. The idea here is you can create a list with initial data provided, rather than making an empty list and then filling it up. Otherwise, if omitted, it's set to `None` and you must initialize your UnorderedList as empty.*\n",
    "\n",
    "**UnorderedList**:\n",
    "Use the methods given in the book (using the textbook source code is allowed):\n",
    "    \n",
    " * `__init__(self, init_data=None)`\n",
    " * `add(self, item)`\n",
    " * `remove(self, item)`\n",
    " * `search(self, item)`\n",
    " * `is_empty(self)`\n",
    " * `length(self)`\n",
    "\n",
    "Additional methods you need to write yourself:\n",
    " * `append(self, item)`\n",
    " * `insert(self, pos, item)`\n",
    " * `index(self, item)`\n",
    " * `pop(self)`\n",
    " * `pop(self, pos)`\n",
    " * `print(self)` (*Print the items in the list*)\n",
    "\n",
    "**Node**: Use the methods given in the book (using the textbook source code is allowed):\n",
    " * `__init__(self, init_data)`\n",
    " * `get_data(self)`\n",
    " * `get_next(self)`\n",
    " * `set_data(self, new_data)`\n",
    " * `set_next(self, new_next)`\n",
    " * `__repr__(self)`"
   ]
  },
  {
   "cell_type": "markdown",
   "metadata": {
    "button": false,
    "new_sheet": false,
    "run_control": {
     "read_only": false
    }
   },
   "source": [
    "## <font color=green>Your Solution</font>\n",
    "\n",
    "*Use a variety of code, Markdown (text) cells below to create your solution. Nice outputs would be timing results, and even plots. You will be graded not only on correctness, but the clarity of your code, descriptive text and other output. Keep it succinct.*"
   ]
  },
  {
   "cell_type": "code",
   "execution_count": 21,
   "metadata": {
    "button": false,
    "new_sheet": false,
    "run_control": {
     "read_only": false
    }
   },
   "outputs": [],
   "source": [
    "class Node:\n",
    "    def __init__(self, init_data):\n",
    "        self.data = init_data\n",
    "        self.next = None\n",
    "        \n",
    "    def get_data(self):\n",
    "        return self.data\n",
    "    \n",
    "    def get_next(self):\n",
    "        return self.next\n",
    "    \n",
    "    def set_data(self, new_data):\n",
    "        self.data = new_data\n",
    "        \n",
    "    def set_next(self, new_next):\n",
    "        self.next = new_next\n",
    "        \n",
    "    def _repr_(self):\n",
    "        return \"Node()\"\n",
    "        "
   ]
  },
  {
   "cell_type": "code",
   "execution_count": 87,
   "metadata": {},
   "outputs": [],
   "source": [
    "class UnorderedList:\n",
    "    def __init__(self):\n",
    "        self.head = None\n",
    "\n",
    "        \n",
    "    def is_empty(self): \n",
    "        return self.head == None\n",
    "\n",
    "    \n",
    "    def add(self, item):\n",
    "        # A prepend to list operation\n",
    "        temp = Node(item)\n",
    "        temp.set_next(self.head)\n",
    "        self.head = temp\n",
    "  \n",
    "\n",
    "    def length(self):\n",
    "        current = self.head\n",
    "        count = 0\n",
    "        while current != None:\n",
    "            count += 1\n",
    "            current = current.get_next()           \n",
    "        return count\n",
    "\n",
    "    \n",
    "    def search(self, item):\n",
    "        current = self.head\n",
    "        found = False      \n",
    "        while current != None and not found:\n",
    "            if current.get_data() == item:\n",
    "                found = True\n",
    "            else:\n",
    "                current = current.get_next()          \n",
    "        return found\n",
    " \n",
    "\n",
    "    def remove(self, item):\n",
    "        current = self.head\n",
    "        previous = None\n",
    "        found = False\n",
    "        \n",
    "        while not found:\n",
    "            if current.get_data() == item:\n",
    "                found = True\n",
    "            else:\n",
    "                previous = current\n",
    "                current = current.get_next()\n",
    "                \n",
    "        if previous == None:\n",
    "            self.head = current.get_next()\n",
    "        else:\n",
    "            previous.set_next(current.get_next())\n",
    " \n",
    "          \n",
    "# append(self, item) \n",
    "    def append(self, item):\n",
    "        temp = Node(item) \n",
    "        if self.is_empty():\n",
    "            self.head = temp\n",
    "        else:\n",
    "            current = self.head\n",
    "            while current.get_next():\n",
    "                current = current.get_next()\n",
    "            current.set_next( temp)\n",
    "            temp.set_next(None)\n",
    "           \n",
    "        \n",
    "# insert(self, pos, item)\n",
    "    def insert(self, pos, item):\n",
    "        temp = Node(item)\n",
    "        if pos ==0:\n",
    "            temp.set_next(self.head)\n",
    "            self.head = temp\n",
    "        else:\n",
    "            current = self.head\n",
    "            previous = None\n",
    "            while self.index(current.get_data()) != pos:\n",
    "                previous = current\n",
    "                current = current.get_next()\n",
    "            if current is None:\n",
    "                previous.set_next(temp)\n",
    "            else:\n",
    "                previous.set_next(temp)\n",
    "                temp.set_next(current)\n",
    "        \n",
    "        \n",
    "\n",
    "# index(self, item) #返回数据项在表中的位置，item应存在\n",
    "    def index(self, item):\n",
    "        count = 0\n",
    "        found = False\n",
    "        current = self.head\n",
    "        while current != None and not found:\n",
    "            if current.get_data() == item:\n",
    "                found = True\n",
    "                return count\n",
    "            else:\n",
    "                current = current.get_next()\n",
    "                count += 1\n",
    "                      \n",
    "\n",
    "# pop(self) #从有序表末尾移除数据项，假设原表至少有1个数据项\n",
    "    def pop(self):\n",
    "        current = self.head\n",
    "        previous = None\n",
    "        if current.next != None:\n",
    "            while current.get_next():\n",
    "                previous = current\n",
    "                current = current.get_next()         \n",
    "            previous.set_next(current.get_next())\n",
    "\n",
    "        \n",
    "# pop(self, pos) #移除位置为pos的数据项，假设原表存在位置pos\n",
    "    def pop_(self, pos):\n",
    "        if pos < 0:\n",
    "            pos = self.size() - abs(index)\n",
    "            \n",
    "        current = self.head\n",
    "        previous = None\n",
    "        while self.index(current.get_data()) != pos:\n",
    "            previous = current\n",
    "            current = current.get_next()\n",
    "        if previous == None:\n",
    "            self.head = current.get_next()\n",
    "        else:\n",
    "            previous.set_next(current.get_next())\n",
    "        \n",
    "        \n",
    "\n",
    "# print(self) (Print the items in the list)\n",
    "    def print_(self):\n",
    "        current =self.head\n",
    "        while current != None:\n",
    "            print(current.data, end=\" \")\n",
    "            current = current.get_next()\n"
   ]
  },
  {
   "cell_type": "markdown",
   "metadata": {
    "button": false,
    "new_sheet": false,
    "run_control": {
     "read_only": false
    }
   },
   "source": [
    "## Testing\n",
    "\n",
    "Test your class by:\n",
    "\n",
    " * Inserting some items.\n",
    " * Printing list items.\n",
    " * Removing some items, then printing again.\n",
    " * Insert a few more items print the list items.\n",
    " * Other tests of your own design.\n"
   ]
  },
  {
   "cell_type": "code",
   "execution_count": 93,
   "metadata": {
    "button": false,
    "new_sheet": false,
    "run_control": {
     "read_only": false
    }
   },
   "outputs": [
    {
     "name": "stdout",
     "output_type": "stream",
     "text": [
      "[29, 80, 71, 21, 41, 97, 50, 36, 68, 93, 23, 66, 61, 62, 95, 92, 20, 47, 76, 31, 24, 2, 25, 40, 45, 39, 86, 1, 51, 6, 83, 5, 26, 48, 3, 7, 72, 60, 32, 12, 9, 52, 99, 33, 34, 19, 16, 73, 58, 15]\n"
     ]
    }
   ],
   "source": [
    "from random import sample\n",
    "nums = sample(range(100), k=50)\n",
    "print(nums)"
   ]
  },
  {
   "cell_type": "code",
   "execution_count": 94,
   "metadata": {},
   "outputs": [
    {
     "name": "stdout",
     "output_type": "stream",
     "text": [
      "15 58 73 16 19 34 33 99 52 9 12 32 60 72 7 3 48 26 5 83 6 51 1 86 39 45 40 25 2 24 31 76 47 20 92 95 62 61 66 23 93 68 36 50 97 41 21 71 80 29 "
     ]
    }
   ],
   "source": [
    "unod = UnorderedList()\n",
    "# adding some items \n",
    "for n in nums:\n",
    "    unod.add(n)\n",
    "    \n",
    "# printing list items\n",
    "unod.print_()"
   ]
  },
  {
   "cell_type": "code",
   "execution_count": 95,
   "metadata": {},
   "outputs": [
    {
     "name": "stdout",
     "output_type": "stream",
     "text": [
      "58 73 16 19 34 33 99 52 9 12 32 60 72 7 3 48 26 5 83 6 51 1 86 39 45 40 25 2 24 31 76 47 20 92 95 62 61 66 23 93 68 36 50 97 41 21 71 80 29 "
     ]
    }
   ],
   "source": [
    "# Removing some items\n",
    "unod.remove(15)\n",
    "\n",
    "# then printing again\n",
    "unod.print_()"
   ]
  },
  {
   "cell_type": "code",
   "execution_count": 96,
   "metadata": {},
   "outputs": [
    {
     "name": "stdout",
     "output_type": "stream",
     "text": [
      "58 73 1 16 1 19 1 34 33 99 52 9 12 32 60 72 7 3 48 26 5 83 6 51 1 86 39 45 40 25 2 24 31 76 47 20 92 95 62 61 66 23 93 68 36 50 97 41 21 71 80 29 "
     ]
    }
   ],
   "source": [
    "\n",
    "# Insert a few more items\n",
    "unod.insert(2, 1)\n",
    "unod.insert(4, 1)\n",
    "unod.insert(6, 1)\n",
    "\n",
    "# printing list items\n",
    "unod.print_()"
   ]
  },
  {
   "cell_type": "markdown",
   "metadata": {},
   "source": [
    "Other tests of my own design."
   ]
  },
  {
   "cell_type": "code",
   "execution_count": 97,
   "metadata": {
    "scrolled": true
   },
   "outputs": [
    {
     "name": "stdout",
     "output_type": "stream",
     "text": [
      "58 73 1 16 1 19 1 34 33 99 52 9 12 32 60 72 7 3 48 26 5 83 6 51 1 86 39 45 40 25 2 24 31 76 47 20 92 95 62 61 66 23 93 68 36 50 97 41 21 71 80 29 0 "
     ]
    }
   ],
   "source": [
    "# append(self, item)\n",
    "unod.append(0)\n",
    "\n",
    "unod.print_()\n"
   ]
  },
  {
   "cell_type": "code",
   "execution_count": 98,
   "metadata": {},
   "outputs": [
    {
     "data": {
      "text/plain": [
       "29"
      ]
     },
     "execution_count": 98,
     "metadata": {},
     "output_type": "execute_result"
    }
   ],
   "source": [
    "# index(self, item)\n",
    "unod.index(25)\n",
    "        "
   ]
  },
  {
   "cell_type": "code",
   "execution_count": 99,
   "metadata": {},
   "outputs": [
    {
     "name": "stdout",
     "output_type": "stream",
     "text": [
      "58 73 1 16 1 19 1 34 33 99 52 9 12 32 60 72 7 3 48 26 5 83 6 51 1 86 39 45 40 25 2 24 31 76 47 20 92 95 62 61 66 23 93 68 36 50 97 41 21 71 80 29 "
     ]
    }
   ],
   "source": [
    "# pop(self)\n",
    "unod.pop()\n",
    "\n",
    "unod.print_()"
   ]
  },
  {
   "cell_type": "code",
   "execution_count": 100,
   "metadata": {},
   "outputs": [
    {
     "name": "stdout",
     "output_type": "stream",
     "text": [
      "58 73 1 16 1 1 34 33 99 52 9 12 32 60 72 7 3 48 26 5 83 6 51 1 86 39 45 40 25 2 24 31 76 47 20 92 95 62 61 66 23 93 68 36 50 97 41 21 71 80 29 "
     ]
    }
   ],
   "source": [
    "# pop(self, pos)\n",
    "unod.pop_(5)\n",
    "\n",
    "unod.print_()"
   ]
  },
  {
   "cell_type": "code",
   "execution_count": null,
   "metadata": {},
   "outputs": [],
   "source": []
  }
 ],
 "metadata": {
  "kernelspec": {
   "display_name": "Python 3",
   "language": "python",
   "name": "python3"
  },
  "language_info": {
   "codemirror_mode": {
    "name": "ipython",
    "version": 3
   },
   "file_extension": ".py",
   "mimetype": "text/x-python",
   "name": "python",
   "nbconvert_exporter": "python",
   "pygments_lexer": "ipython3",
   "version": "3.7.6"
  }
 },
 "nbformat": 4,
 "nbformat_minor": 2
}

{
 "cells": [
  {
   "cell_type": "markdown",
   "metadata": {
    "button": false,
    "new_sheet": false,
    "run_control": {
     "read_only": false
    }
   },
   "source": [
    "# Lab 11: Priority Queues with Binary Heaps"
   ]
  },
  {
   "cell_type": "markdown",
   "metadata": {
    "button": false,
    "new_sheet": false,
    "run_control": {
     "read_only": false
    }
   },
   "source": [
    "## <font color=DarkRed>Your Exercise: Implement a Priority Queue</font>\n",
    "\n",
    "Implement a new class called `PriorityQueue`, based on the `BinaryHeap` class. The heap will be a **min heap**, meaning the smallest priority value is the root of the tree, and thus has the highest priority.\n",
    "\n",
    "You have two objectives:\n",
    "\n",
    "1. When creating a binary heap for your `PriorityQueue`, you will now **limit** the heap size. In other words, the heap only keeps track of the $n$ most important items. If the heap grows in size to more than $n$ items the least important item is *dropped*. \n",
    "1. Your `PriorityQueue` class should implement the following methods:\n",
    "  * `__init__(n)`\n",
    "  \n",
    "     Initialize an empty priority queue, with a maximum size of $n$ items.\n",
    "     <br/>\n",
    "     <br/>\n",
    "\n",
    "  * `enqueue(val, priority)`\n",
    "  \n",
    "     Adds `val` (any object, e.g. `str` or `int`) to the priority queue with the specified priority (an `int`). Smaller priority numbers correspond to higher priorities, which means that all priority 1 elements are dequeued before any priority 2 elements.\n",
    "\n",
    "     Negative priorities are allowed and are not treated differently from other values. That is, a priority of -1 comes before one of 0, which comes before 1, 2, 3, etc.\n",
    "\n",
    "     This function is **required** to check that priority numbers are `ints`. \n",
    "     <br/>\n",
    "     <br/>\n",
    "     \n",
    "  * `dequeue()`\n",
    "  \n",
    "     Removes and returns the highest priority value. If multiple entries in the queue have the same priority, those values are dequeued in the same order in which they were enqueued.\n",
    "\n",
    "     This function is **required** to raise an exception if the queue is empty. \n",
    "\n",
    "\n",
    "*Hint:* Storing tuple pairs of values will be very helpful here."
   ]
  },
  {
   "cell_type": "markdown",
   "metadata": {
    "button": false,
    "new_sheet": false,
    "run_control": {
     "read_only": false
    }
   },
   "source": [
    "## <font color=green>Your Solution</font>\n",
    "\n",
    "*Use a variety of code, Markdown (text) cells below to create your solution. Nice outputs would be timing results, and even plots. You will be graded not only on correctness, but the clarity of your code, descriptive text and other output. Keep it succinct!*"
   ]
  },
  {
   "cell_type": "code",
   "execution_count": 425,
   "metadata": {
    "button": false,
    "new_sheet": false,
    "run_control": {
     "read_only": false
    }
   },
   "outputs": [],
   "source": [
    "class BinaryHeap:\n",
    "    def __init__(self, n):\n",
    "        self.foobar = True\n",
    "        self.__heap_list = [0]\n",
    "        self.__current_size = 0\n",
    "        self.MaxSize = n    #limit the heap size to n\n",
    "               \n",
    "    def size(self):\n",
    "        return self.__current_size\n",
    "    \n",
    "    def is_empty(self):\n",
    "        return self.__current_size == 0\n",
    "    \n",
    "    def insert(self, k):\n",
    "        self.__heap_list.append(k)\n",
    "        self.__current_size += 1\n",
    "        self.__perc_up(self.__current_size)\n",
    "        if self.size() > self.MaxSize:\n",
    "            self.del_max()\n",
    "        \n",
    "    def __perc_up(self, i):\n",
    "        while i//2 > 0:\n",
    "            if self.__heap_list[i] < self.__heap_list[i//2]:\n",
    "                self.__heap_list[i//2], self.__heap_list[i] = self.__heap_list[i], self.__heap_list[i//2]\n",
    "            i //= 2\n",
    "            \n",
    "    def __perc_down(self, i):\n",
    "        while i*2 <= self.__current_size:\n",
    "            mc = self.__min_child(i)\n",
    "            if self.__heap_list[i] > self.__heap_list[mc]:\n",
    "                self.__heap_list[i], self.__heap_list[mc] = self.__heap_list[mc], self.__heap_list[i]               \n",
    "            i = mc\n",
    "            \n",
    "    def __min_child(self, i):\n",
    "        if (i*2) + 1 > self.__current_size:\n",
    "            return i*2\n",
    "        else:\n",
    "            if self.__heap_list[i*2] < self.__heap_list[(i*2) + 1]:\n",
    "                return i*2\n",
    "            else:\n",
    "                return (i*2)+1\n",
    "            \n",
    "    def del_min(self):\n",
    "        retval = self.__heap_list[1]\n",
    "        self.__heap_list[1] = self.__heap_list[self.__current_size]\n",
    "        self.__heap_list.pop()\n",
    "        self.__current_size -= 1        \n",
    "        self.__perc_down(1)\n",
    "        \n",
    "        return retval\n",
    "    \n",
    "                \n",
    "    def __max_child(self,i):\n",
    "        if (i*2) + 1 > self.__current_size:\n",
    "            return i*2\n",
    "        else:\n",
    "            if self.__heap_list[i*2] > self.__heap_list[(i*2) + 1]:\n",
    "                return i*2\n",
    "            else:\n",
    "                return (i*2)+1\n",
    "            \n",
    "    def del_max(self):\n",
    "        i=1\n",
    "        index=1\n",
    "        retval = self.__heap_list[1]\n",
    "        while (i*2) <= self.__current_size:\n",
    "            if retval< self.__heap_list[self.__max_child(i)]:\n",
    "                retval = self.__heap_list[self.__max_child(i)]\n",
    "                index = self.__max_child(i)\n",
    "            i += 1\n",
    "        self.__heap_list.pop(index)\n",
    "        self.__current_size -= 1\n",
    "        \n",
    "        return retval\n",
    "    \n",
    "    def build_heap(self, alist):\n",
    "        i = len(alist) // 2\n",
    "        self.__current_size = len(alist)\n",
    "        self.__heap_list = [0] + alist.copy()\n",
    "        \n",
    "        while i > 0:\n",
    "            self.__perc_down(i)\n",
    "            i -= 1\n",
    "        while self.__current_size > self.MaxSize:\n",
    "            self.del_max()"
   ]
  },
  {
   "cell_type": "code",
   "execution_count": 452,
   "metadata": {},
   "outputs": [],
   "source": [
    "class PriorityQueue:\n",
    "    \n",
    "    def __init__(self, n):\n",
    "        self.maxsize = n\n",
    "        self.bh = BinaryHeap(n) \n",
    "    \n",
    "    def size(self):\n",
    "        return len(self.bh._BinaryHeap__heap_list)-1\n",
    "    \n",
    "    def enqueue(self, val, priority):\n",
    "        self.bh.insert((val,priority))\n",
    "        while self.bh.size() > self.maxsize:\n",
    "            self.dequeue()\n",
    "        \n",
    "    def dequeue(self):\n",
    "        if self.bh.size() == 0:\n",
    "            return False\n",
    "        else:\n",
    "            return self.bh.del_min()\n",
    "   "
   ]
  },
  {
   "cell_type": "markdown",
   "metadata": {
    "button": false,
    "new_sheet": false,
    "run_control": {
     "read_only": false
    }
   },
   "source": [
    "## Testing\n",
    "\n",
    "Test out the `PriorityQueue` to show it works as advertised."
   ]
  },
  {
   "cell_type": "code",
   "execution_count": 453,
   "metadata": {},
   "outputs": [],
   "source": [
    "pq = PriorityQueue(6)"
   ]
  },
  {
   "cell_type": "code",
   "execution_count": 454,
   "metadata": {},
   "outputs": [],
   "source": [
    "pairs = {88:-5, 21:-4, 2:-3, 4:-3, 23:-2, 14:-1, 5:1, 8:2, 10:3, 9:4, 999:5}"
   ]
  },
  {
   "cell_type": "code",
   "execution_count": 455,
   "metadata": {},
   "outputs": [],
   "source": [
    "for val, priority in pairs.items():\n",
    "    pq.enqueue(val, priority)"
   ]
  },
  {
   "cell_type": "code",
   "execution_count": 456,
   "metadata": {},
   "outputs": [
    {
     "data": {
      "text/plain": [
       "[0, (2, -3), (4, -3), (5, 1), (8, 2), (10, 3), (9, 4)]"
      ]
     },
     "execution_count": 456,
     "metadata": {},
     "output_type": "execute_result"
    }
   ],
   "source": [
    "pq.bh._BinaryHeap__heap_list"
   ]
  },
  {
   "cell_type": "code",
   "execution_count": 457,
   "metadata": {},
   "outputs": [
    {
     "data": {
      "text/plain": [
       "6"
      ]
     },
     "execution_count": 457,
     "metadata": {},
     "output_type": "execute_result"
    }
   ],
   "source": [
    "pq.size()"
   ]
  },
  {
   "cell_type": "code",
   "execution_count": 458,
   "metadata": {},
   "outputs": [],
   "source": [
    "sorted_nums = []\n",
    "for i in range(pq.size()):\n",
    "    sorted_nums.append(pq.dequeue())"
   ]
  },
  {
   "cell_type": "code",
   "execution_count": 459,
   "metadata": {},
   "outputs": [
    {
     "data": {
      "text/plain": [
       "[(2, -3), (4, -3), (5, 1), (8, 2), (9, 4), (10, 3)]"
      ]
     },
     "execution_count": 459,
     "metadata": {},
     "output_type": "execute_result"
    }
   ],
   "source": [
    "sorted_nums"
   ]
  },
  {
   "cell_type": "code",
   "execution_count": 460,
   "metadata": {},
   "outputs": [
    {
     "data": {
      "text/plain": [
       "[0]"
      ]
     },
     "execution_count": 460,
     "metadata": {},
     "output_type": "execute_result"
    }
   ],
   "source": [
    "pq.bh._BinaryHeap__heap_list"
   ]
  },
  {
   "cell_type": "code",
   "execution_count": null,
   "metadata": {},
   "outputs": [],
   "source": [
    "    def enqueue(self, items):\n",
    "        if self.is_empty():\n",
    "            bh = BinaryHeap()\n",
    "            bh.build_heap(items)\n",
    "            print('Binary Heap is: ', bh._BinaryHeap__heap_list)\n",
    "            for i in range(bh.size()):\n",
    "                i+=1\n",
    "                self.items.insert(0, bh._BinaryHeap__heap_list[i])\n",
    "            \n",
    "            while self.size() > self.Maxsize:\n",
    "                self.dequeue()\n",
    "        else:\n",
    "            alist = []\n",
    "            for i in range(self.size()):\n",
    "                alist.append(self.dequeue())\n",
    "                \n",
    "            bh = BinaryHeap()\n",
    "            bh.build_heap(alist)\n",
    "            print('Binary Heap is1: ', bh._BinaryHeap__heap_list)\n",
    "            \n",
    "            for j in range(len(items)):\n",
    "                bh.insert(items[j])\n",
    "                \n",
    "            print('New Binary Heap is: ', bh._BinaryHeap__heap_list)\n",
    "            \n",
    "            for i in range(bh.size()):\n",
    "                i+=1\n",
    "                self.items.insert(0, bh._BinaryHeap__heap_list[i])\n",
    "            \n",
    "            while self.size() > self.Maxsize:\n",
    "                self.dequeue()            \n",
    "                   \n",
    "        print('Priority Queue is: ', self.items) "
   ]
  }
 ],
 "metadata": {
  "kernelspec": {
   "display_name": "Python 3",
   "language": "python",
   "name": "python3"
  },
  "language_info": {
   "codemirror_mode": {
    "name": "ipython",
    "version": 3
   },
   "file_extension": ".py",
   "mimetype": "text/x-python",
   "name": "python",
   "nbconvert_exporter": "python",
   "pygments_lexer": "ipython3",
   "version": "3.7.6"
  }
 },
 "nbformat": 4,
 "nbformat_minor": 2
}

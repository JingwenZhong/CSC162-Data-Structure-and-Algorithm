{
 "cells": [
  {
   "cell_type": "markdown",
   "metadata": {
    "button": false,
    "new_sheet": false,
    "run_control": {
     "read_only": false
    }
   },
   "source": [
    "# Lab 7: Recursion"
   ]
  },
  {
   "cell_type": "markdown",
   "metadata": {
    "button": false,
    "new_sheet": false,
    "run_control": {
     "read_only": false
    }
   },
   "source": [
    "## <font color=DarkRed>Your Exercise: Anagrams and Word Jumbles </font>\n",
    "\n",
    "A [word jumble](https://en.wikipedia.org/wiki/Jumble) is a word game where a randomized series of characters must be rearranged to spell a particular (English) word. For example the jumble `\"plaep\"` can be decoded as `\"apple\"`.\n",
    "\n",
    "Your assignment is to do the following:\n",
    "\n",
    " 1. Write a function `jumble_decode` that takes a jumbled word as an input parameter. \n",
    "    * It will generate all the anagrams for that jumbled word using the `anagrams` function (see below).\n",
    "    <br/><br/>\n",
    "    \n",
    "    * Use a \"dictionary file\" (a text file listing all known English words) to filter out the the anagrams that are valid English words.\n",
    "    <br/><br/>\n",
    "    \n",
    "    * This function must return a list of of valid English words. Please do **not** print the results.\n",
    "<br/><br/>\n",
    " 2. Write a function `anagrams` that will generate all the anagrams for a given word (in our case, we'll be providing it jumbled words. This function:\n",
    "    * **must** use recursion to solve for the anagrams!\n",
    "    <br/><br/>\n",
    "    * **must** return a Python list of all generated anagrams (regardless of whether they are valid English words).\n",
    "    \n",
    "\n",
    "*Tip*: I have provided you with `words_list`, a function that will return a Python list of 274,926 words to use for finding valid English words from your anagrams. This can be your \"dictionary file\"."
   ]
  },
  {
   "cell_type": "markdown",
   "metadata": {
    "button": false,
    "new_sheet": false,
    "run_control": {
     "read_only": false
    }
   },
   "source": [
    "## <font color=green>Your Solution</font>\n",
    "\n",
    "*Use a variety of code, Markdown (text) cells below to create your solution. Nice outputs would be timing results, and even plots. You will be graded not only on correctness, but the clarity of your code, descriptive text and other output. Keep it succinct!*"
   ]
  },
  {
   "cell_type": "code",
   "execution_count": 342,
   "metadata": {},
   "outputs": [],
   "source": [
    "import requests"
   ]
  },
  {
   "cell_type": "code",
   "execution_count": 343,
   "metadata": {},
   "outputs": [],
   "source": [
    "def words_list():\n",
    "    \"\"\"Downloads and procsses a word list containing 274,926 words!\n",
    "    You may need to install the 'requests' package through the `pip install requests`.\n",
    "    \"\"\"\n",
    "    req = requests.get(\"https://raw.githubusercontent.com/sindresorhus/word-list/master/words.txt\")\n",
    "    words = req.text.split(\"\\n\")\n",
    "    return words"
   ]
  },
  {
   "cell_type": "code",
   "execution_count": 344,
   "metadata": {},
   "outputs": [],
   "source": [
    "def jumble_decode(jumbled_word):\n",
    "    items = []\n",
    "    for word in anagrams(jumbled_word):\n",
    "        if word in words_list():\n",
    "            items.append(word)\n",
    "    return items"
   ]
  },
  {
   "cell_type": "code",
   "execution_count": 345,
   "metadata": {},
   "outputs": [],
   "source": [
    "def anagrams(word):\n",
    "    if word == \"\":\n",
    "        return [word]\n",
    "    else:\n",
    "        analist = []\n",
    "        for item in anagrams(word[1:]):\n",
    "            for i in range(len(item)+1):\n",
    "                analist.append(item[:i]+word[0]+item[i:])\n",
    "    \n",
    "    newlist=[]\n",
    "    for word in analist:\n",
    "        if word not in newlist:\n",
    "            newlist.append(word)\n",
    "    return newlist"
   ]
  },
  {
   "cell_type": "markdown",
   "metadata": {
    "button": false,
    "new_sheet": false,
    "run_control": {
     "read_only": false
    }
   },
   "source": [
    "## Testing\n",
    "\n",
    "Test your class by calling `jumble_decode` on jumbled words and see if your anagram program correctly provides viable English word solutions of for that jumbled word."
   ]
  },
  {
   "cell_type": "code",
   "execution_count": 347,
   "metadata": {
    "button": false,
    "new_sheet": false,
    "run_control": {
     "read_only": false
    }
   },
   "outputs": [
    {
     "data": {
      "text/plain": [
       "['cow']"
      ]
     },
     "execution_count": 347,
     "metadata": {},
     "output_type": "execute_result"
    }
   ],
   "source": [
    "# For example\n",
    "jumble_decode(\"woc\")"
   ]
  },
  {
   "cell_type": "code",
   "execution_count": 348,
   "metadata": {},
   "outputs": [
    {
     "data": {
      "text/plain": [
       "['apple', 'appel', 'pepla']"
      ]
     },
     "execution_count": 348,
     "metadata": {},
     "output_type": "execute_result"
    }
   ],
   "source": [
    "jumble_decode(\"lappe\")"
   ]
  }
 ],
 "metadata": {
  "kernelspec": {
   "display_name": "Python 3",
   "language": "python",
   "name": "python3"
  },
  "language_info": {
   "codemirror_mode": {
    "name": "ipython",
    "version": 3
   },
   "file_extension": ".py",
   "mimetype": "text/x-python",
   "name": "python",
   "nbconvert_exporter": "python",
   "pygments_lexer": "ipython3",
   "version": "3.7.6"
  }
 },
 "nbformat": 4,
 "nbformat_minor": 2
}

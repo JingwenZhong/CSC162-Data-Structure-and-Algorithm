{
 "cells": [
  {
   "cell_type": "markdown",
   "metadata": {
    "button": false,
    "new_sheet": false,
    "run_control": {
     "read_only": false
    }
   },
   "source": [
    "# Lab 9: Searching"
   ]
  },
  {
   "cell_type": "markdown",
   "metadata": {
    "button": false,
    "new_sheet": false,
    "run_control": {
     "read_only": false
    }
   },
   "source": [
    "## <font color=DarkRed>Your Exercise: Recursive Binary Search without List Slicing</font>\n",
    "\n",
    "The binary search algorithm in the textbook uses Python list slicing as part of the recursive divide-and-conquer approach it uses to solve the searching problem.\n",
    "\n",
    "This is inefficient, as a new copy of the original input list is made at each recursive call. Albeit, the new list is reduced in size by $~alist//2$ each time `binary_search` is recursively executed.\n",
    "\n",
    "Replace the use of list slicing with a technique that eliminates the unnecessary list copying. Recall that you will need to pass the list along with the starting and ending index values for the sublist. "
   ]
  },
  {
   "cell_type": "markdown",
   "metadata": {
    "button": false,
    "new_sheet": false,
    "run_control": {
     "read_only": false
    }
   },
   "source": [
    "## <font color=green>Your Solution</font>\n",
    "\n",
    "*Use a variety of code, Markdown (text) cells below to create your solution. Nice outputs would be timing results, and even plots. You will be graded not only on correctness, but the clarity of your code, descriptive text and other output. Keep it succinct!*\n",
    "\n",
    "I provide you the code for recursive binary search, as found in the textbook. Use this code as the basis for your solution."
   ]
  },
  {
   "cell_type": "code",
   "execution_count": 6,
   "metadata": {},
   "outputs": [],
   "source": [
    "def binary_search(alist, item, first=0, last=None):\n",
    "    if last is None:\n",
    "        last=len(alist)-1\n",
    "    else:\n",
    "        last=last\n",
    "    if len(alist) == 0:\n",
    "        return False \n",
    "    elif first<=last:\n",
    "        midpoint = (first+last)//2     \n",
    "        if alist[midpoint]==item:\n",
    "            return True\n",
    "        else:\n",
    "            if item < alist[midpoint]:\n",
    "                return binary_search(alist, item, first=first, last=midpoint-1)\n",
    "            else:\n",
    "                return binary_search(alist, item, first=midpoint+1, last=last)\n",
    "    else:\n",
    "        return False\n",
    "    \n",
    "    \n"
   ]
  },
  {
   "cell_type": "code",
   "execution_count": 7,
   "metadata": {},
   "outputs": [],
   "source": [
    "def binary_search2(alist, item):\n",
    "    if len(alist) == 0:\n",
    "        return False\n",
    "    else:\n",
    "        midpoint = len(alist)//2\n",
    "        if alist[midpoint]==item:\n",
    "            return True\n",
    "        else:\n",
    "            if item < alist[midpoint]:\n",
    "                return binary_search2(alist[:midpoint], item)\n",
    "            else:\n",
    "                return binary_search2(alist[midpoint+1:], item)"
   ]
  },
  {
   "cell_type": "markdown",
   "metadata": {
    "button": false,
    "new_sheet": false,
    "run_control": {
     "read_only": false
    }
   },
   "source": [
    "## Testing\n",
    "\n",
    "Generate a random, ordered list of integers and do a quick benchmark analysis to confim the $O(log_2(n))$ complexity of this algorithm after the change. Some timings and a simple plot should suffice. *Remember: binary search **requires** a sorted list for searching!*"
   ]
  },
  {
   "cell_type": "code",
   "execution_count": 8,
   "metadata": {},
   "outputs": [],
   "source": [
    "import time\n",
    "import matplotlib.pyplot as plt"
   ]
  },
  {
   "cell_type": "code",
   "execution_count": 9,
   "metadata": {
    "button": false,
    "new_sheet": false,
    "run_control": {
     "read_only": false
    }
   },
   "outputs": [
    {
     "name": "stdout",
     "output_type": "stream",
     "text": [
      "True\n",
      "False\n"
     ]
    }
   ],
   "source": [
    "# Simple test. Do more below...\n",
    "testlist = [0, 1, 2, 8, 13, 17, 19, 32, 42,]\n",
    "print(binary_search(testlist, 2))\n",
    "print(binary_search(testlist, 3))"
   ]
  },
  {
   "cell_type": "code",
   "execution_count": 48,
   "metadata": {},
   "outputs": [],
   "source": [
    "N = []\n",
    "for i in range(10000,50000,200):\n",
    "    N.append(i)"
   ]
  },
  {
   "cell_type": "code",
   "execution_count": 49,
   "metadata": {},
   "outputs": [],
   "source": [
    "binary_time=[]\n",
    "for r in N:\n",
    "    alist = range(r)\n",
    "    item = 40000\n",
    "    start = time.perf_counter()\n",
    "    binary_search(alist, item)\n",
    "    end = time.perf_counter()\n",
    "    binary_time.append(end-start)\n",
    "    \n",
    "binary_time2=[]\n",
    "for r in N:\n",
    "    alist = range(r)\n",
    "    item = 40000\n",
    "    start = time.perf_counter()\n",
    "    binary_search2(alist, item)\n",
    "    end = time.perf_counter()\n",
    "    binary_time2.append(end-start)\n",
    "\n"
   ]
  },
  {
   "cell_type": "code",
   "execution_count": 50,
   "metadata": {},
   "outputs": [
    {
     "data": {
      "image/png": "[encoded data removed]",
      "text/plain": [
       "<Figure size 432x288 with 1 Axes>"
      ]
     },
     "metadata": {
      "needs_background": "light"
     },
     "output_type": "display_data"
    }
   ],
   "source": [
    "plt.plot(N, binary_time, label = 'new binary search' )\n",
    "plt.plot(N, binary_time2, label = 'old binary search' )\n",
    "plt.legend()\n",
    "plt.ylabel('time taken')\n",
    "plt.ylim(0,0.000025)\n",
    "plt.xlabel('N')\n",
    "plt.show()"
   ]
  }
 ],
 "metadata": {
  "kernelspec": {
   "display_name": "Python 3",
   "language": "python",
   "name": "python3"
  },
  "language_info": {
   "codemirror_mode": {
    "name": "ipython",
    "version": 3
   },
   "file_extension": ".py",
   "mimetype": "text/x-python",
   "name": "python",
   "nbconvert_exporter": "python",
   "pygments_lexer": "ipython3",
   "version": "3.7.6"
  }
 },
 "nbformat": 4,
 "nbformat_minor": 2
}

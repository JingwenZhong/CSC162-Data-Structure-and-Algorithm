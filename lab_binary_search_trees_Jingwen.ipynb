{
 "cells": [
  {
   "cell_type": "markdown",
   "metadata": {
    "button": false,
    "new_sheet": false,
    "run_control": {
     "read_only": false
    }
   },
   "source": [
    "# Lab 14: Binary Search Trees"
   ]
  },
  {
   "cell_type": "markdown",
   "metadata": {
    "button": false,
    "new_sheet": false,
    "run_control": {
     "read_only": false
    }
   },
   "source": [
    "## <font color=DarkRed>Your Exercise: Handle duplicate keys</font>\n",
    "\n",
    "Modify our implementation of the `BinarySearchTree` class so that it handles duplicate keys properly. That is, if a key is already in the tree then the new payload should replace the old rather than add another node with the same key.\n",
    "\n",
    "Remember, one earlier example in class (the \"Binary Search and AVL Trees\" notebook), we attempted this on `wt`, which was a word tree we constructed. We could not update the definition of an already existing word:\n",
    "\n",
    "```\n",
    ">>> wt[\"abeam\"]\n",
    "'No definition available'\n",
    ">>> wt[\"abeam\"] = \"A bright headlight\"\n",
    ">>> wt[\"abeam\"]\n",
    "'No definition available'\n",
    "```"
   ]
  },
  {
   "cell_type": "markdown",
   "metadata": {
    "button": false,
    "new_sheet": false,
    "run_control": {
     "read_only": false
    }
   },
   "source": [
    "## <font color=green>Your Solution</font>\n",
    "\n",
    "*Use a variety of code, Markdown (text) cells below to create your solution. Nice outputs would be timing results, and even plots. You will be graded not only on correctness, but the clarity of your code, descriptive text and other output. Keep it succinct!*"
   ]
  },
  {
   "cell_type": "code",
   "execution_count": 93,
   "metadata": {
    "button": false,
    "new_sheet": false,
    "run_control": {
     "read_only": false
    }
   },
   "outputs": [],
   "source": [
    "class TreeNode:\n",
    "    def __init__(self, key, val, left=None, right=None, parent=None):\n",
    "        self.key = key\n",
    "        self.payload = val\n",
    "        self.left_child = left\n",
    "        self.right_child= right\n",
    "        self.parent = parent\n",
    "        \n",
    "    def __iter__(self):\n",
    "        if self:\n",
    "            if self.has_left_child():\n",
    "                for elem in self.left_child:\n",
    "                    yield elem\n",
    "                    \n",
    "            yield self.key\n",
    "            \n",
    "            if self.has_right_child():\n",
    "                for elem in self.right_child:\n",
    "                    yield elem\n",
    "                    \n",
    "    def has_left_child(self):\n",
    "        return self.left_child\n",
    "    \n",
    "    def has_right_child(self):\n",
    "        return self.right_child\n",
    "    \n",
    "    def is_left_child(self):\n",
    "        return self.parent and self.parent.left_child is self\n",
    "    \n",
    "    def is_right_child(self):\n",
    "        return self.parent and self.parent.right_child is self\n",
    "    \n",
    "    def is_root(self):\n",
    "        return not self.parent\n",
    "    \n",
    "    def is_leaf(self):\n",
    "        return not self.left_child and not self.right_child\n",
    "    \n",
    "    def has_any_children(self):\n",
    "        return self.right_child or self.left_child\n",
    "    \n",
    "    def has_both_children(self):\n",
    "        return self.right_child and self.left_child\n",
    "    \n",
    "    def replace_node_data(self, key, value, lc, rc):\n",
    "        self.key = key\n",
    "        self.payload = value\n",
    "        self.left_child = lc\n",
    "        self.right_child = rc\n",
    "        \n",
    "        if self.has_left_child():\n",
    "            self.left_child.parent = self\n",
    "            \n",
    "        if self.has_right_child():\n",
    "            self.right_child.parent = self\n",
    "            \n",
    "    def splice_out(self):\n",
    "        if self.is_leaf():\n",
    "            if self.is_left_child():\n",
    "                self.parent.left_child = None\n",
    "            else:\n",
    "                self.parent.right_child = None\n",
    "        elif self.has_any_children():\n",
    "            if self.has_left_child():\n",
    "                if self.is_left_child():\n",
    "                    self.parent.left_child = self.left_child\n",
    "                else:\n",
    "                    self.parent.right_child = self.left_child\n",
    "                    \n",
    "                self.left_child.parent = self.parent\n",
    "            else:  # has a right child\n",
    "                if self.is_left_child():\n",
    "                    self.parent.left_child = self.right_child\n",
    "                else:\n",
    "                    self.parent.right_child = self.right_child\n",
    "                    \n",
    "                self.right_child.parent = self.parent\n",
    "                \n",
    "    def find_successor(self):\n",
    "        succ = None\n",
    "        \n",
    "        if self.has_right_child():\n",
    "            succ = self.right_child.find_min()\n",
    "        else:  # no right child? Then we work on left child\n",
    "            if self.parent:  # it is an intermediate node\n",
    "                if self.is_left_child():\n",
    "                    succ = self.parent\n",
    "                else:  # is a right child\n",
    "                    self.parent.right_child = None\n",
    "                    succ = self.parent.find_successor()\n",
    "                    self.parent.right_child = self\n",
    "        return succ\n",
    "    \n",
    "    \n",
    "    def find_min(self):\n",
    "        current = self\n",
    "        \n",
    "        while current.has_left_child():\n",
    "            current = current.left_child\n",
    "\n",
    "        return current"
   ]
  },
  {
   "cell_type": "code",
   "execution_count": 94,
   "metadata": {},
   "outputs": [],
   "source": [
    "class BinarySearchTree:\n",
    "    def __init__(self):\n",
    "        self.root = None\n",
    "        self.size = 0\n",
    "    \n",
    "    def __len__(self):\n",
    "        return self.length()\n",
    "    \n",
    "    def __iter__(self):\n",
    "        return self.root.__iter__()\n",
    "    \n",
    "    def __setitem__(self, k, v):\n",
    "        self.put(k, v)\n",
    "  \n",
    "    def __getitem__(self, k):\n",
    "        return self.get(k)\n",
    "    \n",
    "    def __contains__(self, k):\n",
    "        #if self._get(key, self.root):\n",
    "        #    return True\n",
    "        #else:\n",
    "        #    return False\n",
    "        \n",
    "        return self._get(k, self.root) is not None\n",
    "\n",
    "    def __delitem__(self, k):\n",
    "        self.delete(k)\n",
    "    \n",
    "    def length(self):\n",
    "        return self.size\n",
    "    \n",
    "    def put(self, key, val):\n",
    "        if self.root:\n",
    "            self._put(key, val, self.root)\n",
    "        else:  # the tree is non-existient\n",
    "            self.root = TreeNode(key, val)\n",
    "            \n",
    "        self.size += 1\n",
    "        \n",
    "    def _put(self, key, val, current_node):\n",
    "        if key == current_node.key:\n",
    "            current_node.replace_node_data(key, val, current_node.left_child, current_node.right_child) \n",
    "            \n",
    "        elif key < current_node.key:\n",
    "            if current_node.has_left_child():\n",
    "                self._put(key, val, current_node.left_child)\n",
    "            else:\n",
    "                current_node.left_child = TreeNode(key, val, parent=current_node)\n",
    "        else:\n",
    "            if current_node.has_right_child():\n",
    "                self._put(key, val, current_node.right_child)\n",
    "            else:\n",
    "                current_node.right_child = TreeNode(key, val, parent=current_node)\n",
    "                \n",
    "    def get(self, key):\n",
    "        if self.root:\n",
    "            res = self._get(key, self.root)\n",
    "            if res:\n",
    "                # return the value of our TreeNode with matching key\n",
    "                return res.payload\n",
    "            else:\n",
    "                return None\n",
    "        else:\n",
    "            return None\n",
    "        \n",
    "    def _get(self, key, current_node):\n",
    "        if not current_node:\n",
    "            return None\n",
    "        elif current_node.key == key:\n",
    "            return current_node\n",
    "        elif key < current_node.key:\n",
    "            return self._get(key, current_node.left_child)\n",
    "        else:\n",
    "            return self._get(key, current_node.right_child)\n",
    "        \n",
    "    def delete(self, key):\n",
    "        if self.size > 1:\n",
    "            node_to_remove = self._get(key, self.root)\n",
    "            if node_to_remove:\n",
    "                self.remove(node_to_remove)\n",
    "                self.size -= 1\n",
    "            else:\n",
    "                raise KeyError(\"Key not found in tree!\")\n",
    "        elif self.size == 1 and self.root.key == key:\n",
    "            # tree is completely removed, since it was only one node\n",
    "            self.root = None\n",
    "            self.size -= 1\n",
    "        else:\n",
    "            raise KeyError(\"Key not found in tree!\")\n",
    "            \n",
    "    def remove(self, current_node):\n",
    "        if current_node.is_leaf():  # leaf\n",
    "            #if current_node == current_node.parent.left_child:\n",
    "            if current_node.is_left_child():   \n",
    "                current_node.parent.left_child = None\n",
    "            else:\n",
    "                current_node.parent.right_child = None\n",
    "        elif current_node.has_both_children():  # interior\n",
    "            succ = current_node.find_successor()\n",
    "            succ.splice_out()\n",
    "            current_node.key = succ.key\n",
    "            current_node.payload = succ.payload\n",
    "        else:  # node has one child\n",
    "            if current_node.has_left_child():\n",
    "                if current_node.is_left_child():\n",
    "                    current_node.left_child.parent = current_node.parent\n",
    "                    current_node.parent.left_child = current_node.left_child\n",
    "                elif current_node.is_right_child():\n",
    "                    current_node.left_child.parent = current_node.parent\n",
    "                    current_node.parent.right_child = current_node.left_child\n",
    "                else:\n",
    "                    current_node.replace_node_data(current_node.left_child.key,\n",
    "                                                   current_node.left_child.payload,\n",
    "                                                   current_node.left_child.left_child,\n",
    "                                                   current_node.left_child.right_child)\n",
    "            else:\n",
    "                if current_node.is_left_child():\n",
    "                    current_node.right_child.parent = current_node.parent\n",
    "                    current_node.parent.left_child = current_node.right_child\n",
    "                elif current_node.is_right_child():\n",
    "                    current_node.right_child.parent = current_node.parent\n",
    "                    current_node.parent.right_child = current_node.right_child\n",
    "                else:\n",
    "                    current_node.replace_node_data(current_node.right_child.key,\n",
    "                                                   current_node.right_child.payload,\n",
    "                                                   current_node.right_child.left_child,\n",
    "                                                   current_node.right_child.right_child)   \n",
    "        \n",
    "    def printTree(self):\n",
    "        if self.size == 0:\n",
    "            print(\"Empty Tree\")\n",
    "        else:\n",
    "            self._printTree(self.root)\n",
    "            \n",
    "    def _printTree(self, current_node):\n",
    "        if current_node: #中序遍历\n",
    "            self._printTree(current_node.left_child)\n",
    "            print(current_node.payload)\n",
    "            self._printTree(current_node.right_child)"
   ]
  },
  {
   "cell_type": "markdown",
   "metadata": {
    "button": false,
    "new_sheet": false,
    "run_control": {
     "read_only": false
    }
   },
   "source": [
    "## Testing\n",
    "\n",
    "Test out the `BinarySearchTree` class to show it works as advertised."
   ]
  },
  {
   "cell_type": "code",
   "execution_count": 95,
   "metadata": {},
   "outputs": [
    {
     "name": "stdout",
     "output_type": "stream",
     "text": [
      "aaa\n",
      "e\n"
     ]
    }
   ],
   "source": [
    "bst = BinarySearchTree() \n",
    "bst[999] = \"e\" \n",
    "bst[55] = \"ddd\" \n",
    "bst[2] = \"aaa\" \n",
    "bst[7] = \"bbb\"\n",
    "bst[10] = \"ccc\"\n",
    "\n",
    "print(bst[2])\n",
    "print(bst[999])\n"
   ]
  },
  {
   "cell_type": "code",
   "execution_count": 96,
   "metadata": {},
   "outputs": [
    {
     "name": "stdout",
     "output_type": "stream",
     "text": [
      "aaa\n",
      "bbb\n",
      "ccc\n",
      "ddd\n",
      "e\n"
     ]
    }
   ],
   "source": [
    "bst.printTree()"
   ]
  },
  {
   "cell_type": "code",
   "execution_count": 97,
   "metadata": {},
   "outputs": [],
   "source": [
    "bst[999] = \"eee\""
   ]
  },
  {
   "cell_type": "code",
   "execution_count": 98,
   "metadata": {},
   "outputs": [
    {
     "name": "stdout",
     "output_type": "stream",
     "text": [
      "aaa\n",
      "bbb\n",
      "ccc\n",
      "ddd\n",
      "eee\n"
     ]
    }
   ],
   "source": [
    "bst.printTree()"
   ]
  }
 ],
 "metadata": {
  "kernelspec": {
   "display_name": "Python 3",
   "language": "python",
   "name": "python3"
  },
  "language_info": {
   "codemirror_mode": {
    "name": "ipython",
    "version": 3
   },
   "file_extension": ".py",
   "mimetype": "text/x-python",
   "name": "python",
   "nbconvert_exporter": "python",
   "pygments_lexer": "ipython3",
   "version": "3.7.6"
  }
 },
 "nbformat": 4,
 "nbformat_minor": 2
}
